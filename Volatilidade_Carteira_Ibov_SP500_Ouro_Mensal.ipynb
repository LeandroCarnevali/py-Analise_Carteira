{
  "cells": [
    {
      "cell_type": "code",
      "source": [
        "import warnings\n",
        "warnings.filterwarnings('ignore')"
      ],
      "metadata": {
        "id": "Lc7x8QEha9Sx"
      },
      "id": "Lc7x8QEha9Sx",
      "execution_count": 1,
      "outputs": []
    },
    {
      "cell_type": "code",
      "source": [
        "!pip install yfinance"
      ],
      "metadata": {
        "id": "yrGJ2TDfbF3x",
        "outputId": "d0dc31c0-7717-44e2-ca61-c8aec817befa",
        "colab": {
          "base_uri": "https://localhost:8080/"
        }
      },
      "id": "yrGJ2TDfbF3x",
      "execution_count": 1,
      "outputs": [
        {
          "output_type": "stream",
          "name": "stdout",
          "text": [
            "Looking in indexes: https://pypi.org/simple, https://us-python.pkg.dev/colab-wheels/public/simple/\n",
            "Collecting yfinance\n",
            "  Downloading yfinance-0.1.70-py2.py3-none-any.whl (26 kB)\n",
            "Requirement already satisfied: numpy>=1.15 in /usr/local/lib/python3.7/dist-packages (from yfinance) (1.21.6)\n",
            "Collecting lxml>=4.5.1\n",
            "  Downloading lxml-4.8.0-cp37-cp37m-manylinux_2_17_x86_64.manylinux2014_x86_64.manylinux_2_24_x86_64.whl (6.4 MB)\n",
            "\u001b[K     |████████████████████████████████| 6.4 MB 6.5 MB/s \n",
            "\u001b[?25hCollecting requests>=2.26\n",
            "  Downloading requests-2.27.1-py2.py3-none-any.whl (63 kB)\n",
            "\u001b[K     |████████████████████████████████| 63 kB 1.4 MB/s \n",
            "\u001b[?25hRequirement already satisfied: multitasking>=0.0.7 in /usr/local/lib/python3.7/dist-packages (from yfinance) (0.0.10)\n",
            "Requirement already satisfied: pandas>=0.24.0 in /usr/local/lib/python3.7/dist-packages (from yfinance) (1.3.5)\n",
            "Requirement already satisfied: python-dateutil>=2.7.3 in /usr/local/lib/python3.7/dist-packages (from pandas>=0.24.0->yfinance) (2.8.2)\n",
            "Requirement already satisfied: pytz>=2017.3 in /usr/local/lib/python3.7/dist-packages (from pandas>=0.24.0->yfinance) (2022.1)\n",
            "Requirement already satisfied: six>=1.5 in /usr/local/lib/python3.7/dist-packages (from python-dateutil>=2.7.3->pandas>=0.24.0->yfinance) (1.15.0)\n",
            "Requirement already satisfied: urllib3<1.27,>=1.21.1 in /usr/local/lib/python3.7/dist-packages (from requests>=2.26->yfinance) (1.24.3)\n",
            "Requirement already satisfied: charset-normalizer~=2.0.0 in /usr/local/lib/python3.7/dist-packages (from requests>=2.26->yfinance) (2.0.12)\n",
            "Requirement already satisfied: certifi>=2017.4.17 in /usr/local/lib/python3.7/dist-packages (from requests>=2.26->yfinance) (2022.5.18.1)\n",
            "Requirement already satisfied: idna<4,>=2.5 in /usr/local/lib/python3.7/dist-packages (from requests>=2.26->yfinance) (2.10)\n",
            "Installing collected packages: requests, lxml, yfinance\n",
            "  Attempting uninstall: requests\n",
            "    Found existing installation: requests 2.23.0\n",
            "    Uninstalling requests-2.23.0:\n",
            "      Successfully uninstalled requests-2.23.0\n",
            "  Attempting uninstall: lxml\n",
            "    Found existing installation: lxml 4.2.6\n",
            "    Uninstalling lxml-4.2.6:\n",
            "      Successfully uninstalled lxml-4.2.6\n",
            "\u001b[31mERROR: pip's dependency resolver does not currently take into account all the packages that are installed. This behaviour is the source of the following dependency conflicts.\n",
            "google-colab 1.0.0 requires requests~=2.23.0, but you have requests 2.27.1 which is incompatible.\n",
            "datascience 0.10.6 requires folium==0.2.1, but you have folium 0.8.3 which is incompatible.\u001b[0m\n",
            "Successfully installed lxml-4.8.0 requests-2.27.1 yfinance-0.1.70\n"
          ]
        }
      ]
    },
    {
      "cell_type": "code",
      "execution_count": 2,
      "id": "277555ea",
      "metadata": {
        "id": "277555ea"
      },
      "outputs": [],
      "source": [
        "import numpy as np\n",
        "import pandas as pd\n",
        "import matplotlib.pyplot as plt\n",
        "import pandas_datareader.data as web\n",
        "import yfinance as yf\n",
        "import seaborn as sns"
      ]
    },
    {
      "cell_type": "code",
      "execution_count": 3,
      "id": "96d0b193",
      "metadata": {
        "id": "96d0b193"
      },
      "outputs": [],
      "source": [
        "\"\"\"Sobrescrevendo os métodos do pandas_datareader\"\"\"\n",
        "yf.pdr_override()"
      ]
    },
    {
      "cell_type": "code",
      "execution_count": 4,
      "id": "ea8615d5",
      "metadata": {
        "id": "ea8615d5",
        "outputId": "80d62a5a-8b45-44f2-d77c-6414b8a510ef",
        "colab": {
          "base_uri": "https://localhost:8080/"
        }
      },
      "outputs": [
        {
          "output_type": "stream",
          "name": "stdout",
          "text": [
            "[*********************100%***********************]  4 of 4 completed\n"
          ]
        }
      ],
      "source": [
        "tickers = \"^BVSP ^GSPC GC=F USDBRL=X\"\n",
        "carteira = yf.download(tickers, interval='1mo', start=\"2010-01-01\")[\"Close\"]"
      ]
    },
    {
      "cell_type": "code",
      "execution_count": 5,
      "id": "33511a94",
      "metadata": {
        "id": "33511a94"
      },
      "outputs": [],
      "source": [
        "carteira.columns = [\"OURO\", \"DOLAR\", \"IBOV\", \"S&P500\"]\n",
        "carteira = carteira.dropna()\n",
        "carteira[\"OURO_BRL\"]=carteira[\"OURO\"]*carteira[\"DOLAR\"]\n",
        "carteira[\"S&P500_BRL\"]=carteira[\"S&P500\"]*carteira[\"DOLAR\"]"
      ]
    },
    {
      "cell_type": "code",
      "execution_count": 6,
      "id": "8a968771",
      "metadata": {
        "id": "8a968771"
      },
      "outputs": [],
      "source": [
        "#retornos = carteira.pct_change().dropna()\n",
        "retornos = carteira.pct_change()[1:]"
      ]
    },
    {
      "cell_type": "code",
      "execution_count": 7,
      "id": "d94c5397",
      "metadata": {
        "id": "d94c5397",
        "outputId": "b1478209-1086-4b31-9916-ceb3e38a137d",
        "colab": {
          "base_uri": "https://localhost:8080/",
          "height": 455
        }
      },
      "outputs": [
        {
          "output_type": "execute_result",
          "data": {
            "text/plain": [
              "                OURO     DOLAR      IBOV    S&P500  OURO_BRL  S&P500_BRL\n",
              "Date                                                                    \n",
              "2010-02-01  0.032595 -0.049147  0.016834  0.028514 -0.018154   -0.022034\n",
              "2010-03-01 -0.004471  0.018010  0.058178  0.058796  0.013459    0.077866\n",
              "2010-04-01  0.060002 -0.029093 -0.040385  0.014759  0.029163   -0.014763\n",
              "2010-05-01  0.027201  0.049575 -0.066385 -0.081976  0.078124   -0.036465\n",
              "2010-06-01  0.027471 -0.012952 -0.033483 -0.053882  0.014163   -0.066136\n",
              "...              ...       ...       ...       ...       ...         ...\n",
              "2021-09-01 -0.031612  0.040691 -0.088850 -0.019958  0.007793    0.019921\n",
              "2021-10-01  0.015781  0.040522 -0.067382  0.069144  0.056943    0.112468\n",
              "2022-03-01  0.093214 -0.153363  0.159399 -0.016279 -0.074445   -0.167145\n",
              "2022-04-01 -0.020470  0.042057 -0.101026 -0.087957  0.020726   -0.049599\n",
              "2022-05-24 -0.023464 -0.030521  0.025073 -0.046092 -0.053269   -0.075207\n",
              "\n",
              "[116 rows x 6 columns]"
            ],
            "text/html": [
              "\n",
              "  <div id=\"df-847f71c3-d204-4e3d-95be-417c40ccc75d\">\n",
              "    <div class=\"colab-df-container\">\n",
              "      <div>\n",
              "<style scoped>\n",
              "    .dataframe tbody tr th:only-of-type {\n",
              "        vertical-align: middle;\n",
              "    }\n",
              "\n",
              "    .dataframe tbody tr th {\n",
              "        vertical-align: top;\n",
              "    }\n",
              "\n",
              "    .dataframe thead th {\n",
              "        text-align: right;\n",
              "    }\n",
              "</style>\n",
              "<table border=\"1\" class=\"dataframe\">\n",
              "  <thead>\n",
              "    <tr style=\"text-align: right;\">\n",
              "      <th></th>\n",
              "      <th>OURO</th>\n",
              "      <th>DOLAR</th>\n",
              "      <th>IBOV</th>\n",
              "      <th>S&amp;P500</th>\n",
              "      <th>OURO_BRL</th>\n",
              "      <th>S&amp;P500_BRL</th>\n",
              "    </tr>\n",
              "    <tr>\n",
              "      <th>Date</th>\n",
              "      <th></th>\n",
              "      <th></th>\n",
              "      <th></th>\n",
              "      <th></th>\n",
              "      <th></th>\n",
              "      <th></th>\n",
              "    </tr>\n",
              "  </thead>\n",
              "  <tbody>\n",
              "    <tr>\n",
              "      <th>2010-02-01</th>\n",
              "      <td>0.032595</td>\n",
              "      <td>-0.049147</td>\n",
              "      <td>0.016834</td>\n",
              "      <td>0.028514</td>\n",
              "      <td>-0.018154</td>\n",
              "      <td>-0.022034</td>\n",
              "    </tr>\n",
              "    <tr>\n",
              "      <th>2010-03-01</th>\n",
              "      <td>-0.004471</td>\n",
              "      <td>0.018010</td>\n",
              "      <td>0.058178</td>\n",
              "      <td>0.058796</td>\n",
              "      <td>0.013459</td>\n",
              "      <td>0.077866</td>\n",
              "    </tr>\n",
              "    <tr>\n",
              "      <th>2010-04-01</th>\n",
              "      <td>0.060002</td>\n",
              "      <td>-0.029093</td>\n",
              "      <td>-0.040385</td>\n",
              "      <td>0.014759</td>\n",
              "      <td>0.029163</td>\n",
              "      <td>-0.014763</td>\n",
              "    </tr>\n",
              "    <tr>\n",
              "      <th>2010-05-01</th>\n",
              "      <td>0.027201</td>\n",
              "      <td>0.049575</td>\n",
              "      <td>-0.066385</td>\n",
              "      <td>-0.081976</td>\n",
              "      <td>0.078124</td>\n",
              "      <td>-0.036465</td>\n",
              "    </tr>\n",
              "    <tr>\n",
              "      <th>2010-06-01</th>\n",
              "      <td>0.027471</td>\n",
              "      <td>-0.012952</td>\n",
              "      <td>-0.033483</td>\n",
              "      <td>-0.053882</td>\n",
              "      <td>0.014163</td>\n",
              "      <td>-0.066136</td>\n",
              "    </tr>\n",
              "    <tr>\n",
              "      <th>...</th>\n",
              "      <td>...</td>\n",
              "      <td>...</td>\n",
              "      <td>...</td>\n",
              "      <td>...</td>\n",
              "      <td>...</td>\n",
              "      <td>...</td>\n",
              "    </tr>\n",
              "    <tr>\n",
              "      <th>2021-09-01</th>\n",
              "      <td>-0.031612</td>\n",
              "      <td>0.040691</td>\n",
              "      <td>-0.088850</td>\n",
              "      <td>-0.019958</td>\n",
              "      <td>0.007793</td>\n",
              "      <td>0.019921</td>\n",
              "    </tr>\n",
              "    <tr>\n",
              "      <th>2021-10-01</th>\n",
              "      <td>0.015781</td>\n",
              "      <td>0.040522</td>\n",
              "      <td>-0.067382</td>\n",
              "      <td>0.069144</td>\n",
              "      <td>0.056943</td>\n",
              "      <td>0.112468</td>\n",
              "    </tr>\n",
              "    <tr>\n",
              "      <th>2022-03-01</th>\n",
              "      <td>0.093214</td>\n",
              "      <td>-0.153363</td>\n",
              "      <td>0.159399</td>\n",
              "      <td>-0.016279</td>\n",
              "      <td>-0.074445</td>\n",
              "      <td>-0.167145</td>\n",
              "    </tr>\n",
              "    <tr>\n",
              "      <th>2022-04-01</th>\n",
              "      <td>-0.020470</td>\n",
              "      <td>0.042057</td>\n",
              "      <td>-0.101026</td>\n",
              "      <td>-0.087957</td>\n",
              "      <td>0.020726</td>\n",
              "      <td>-0.049599</td>\n",
              "    </tr>\n",
              "    <tr>\n",
              "      <th>2022-05-24</th>\n",
              "      <td>-0.023464</td>\n",
              "      <td>-0.030521</td>\n",
              "      <td>0.025073</td>\n",
              "      <td>-0.046092</td>\n",
              "      <td>-0.053269</td>\n",
              "      <td>-0.075207</td>\n",
              "    </tr>\n",
              "  </tbody>\n",
              "</table>\n",
              "<p>116 rows × 6 columns</p>\n",
              "</div>\n",
              "      <button class=\"colab-df-convert\" onclick=\"convertToInteractive('df-847f71c3-d204-4e3d-95be-417c40ccc75d')\"\n",
              "              title=\"Convert this dataframe to an interactive table.\"\n",
              "              style=\"display:none;\">\n",
              "        \n",
              "  <svg xmlns=\"http://www.w3.org/2000/svg\" height=\"24px\"viewBox=\"0 0 24 24\"\n",
              "       width=\"24px\">\n",
              "    <path d=\"M0 0h24v24H0V0z\" fill=\"none\"/>\n",
              "    <path d=\"M18.56 5.44l.94 2.06.94-2.06 2.06-.94-2.06-.94-.94-2.06-.94 2.06-2.06.94zm-11 1L8.5 8.5l.94-2.06 2.06-.94-2.06-.94L8.5 2.5l-.94 2.06-2.06.94zm10 10l.94 2.06.94-2.06 2.06-.94-2.06-.94-.94-2.06-.94 2.06-2.06.94z\"/><path d=\"M17.41 7.96l-1.37-1.37c-.4-.4-.92-.59-1.43-.59-.52 0-1.04.2-1.43.59L10.3 9.45l-7.72 7.72c-.78.78-.78 2.05 0 2.83L4 21.41c.39.39.9.59 1.41.59.51 0 1.02-.2 1.41-.59l7.78-7.78 2.81-2.81c.8-.78.8-2.07 0-2.86zM5.41 20L4 18.59l7.72-7.72 1.47 1.35L5.41 20z\"/>\n",
              "  </svg>\n",
              "      </button>\n",
              "      \n",
              "  <style>\n",
              "    .colab-df-container {\n",
              "      display:flex;\n",
              "      flex-wrap:wrap;\n",
              "      gap: 12px;\n",
              "    }\n",
              "\n",
              "    .colab-df-convert {\n",
              "      background-color: #E8F0FE;\n",
              "      border: none;\n",
              "      border-radius: 50%;\n",
              "      cursor: pointer;\n",
              "      display: none;\n",
              "      fill: #1967D2;\n",
              "      height: 32px;\n",
              "      padding: 0 0 0 0;\n",
              "      width: 32px;\n",
              "    }\n",
              "\n",
              "    .colab-df-convert:hover {\n",
              "      background-color: #E2EBFA;\n",
              "      box-shadow: 0px 1px 2px rgba(60, 64, 67, 0.3), 0px 1px 3px 1px rgba(60, 64, 67, 0.15);\n",
              "      fill: #174EA6;\n",
              "    }\n",
              "\n",
              "    [theme=dark] .colab-df-convert {\n",
              "      background-color: #3B4455;\n",
              "      fill: #D2E3FC;\n",
              "    }\n",
              "\n",
              "    [theme=dark] .colab-df-convert:hover {\n",
              "      background-color: #434B5C;\n",
              "      box-shadow: 0px 1px 3px 1px rgba(0, 0, 0, 0.15);\n",
              "      filter: drop-shadow(0px 1px 2px rgba(0, 0, 0, 0.3));\n",
              "      fill: #FFFFFF;\n",
              "    }\n",
              "  </style>\n",
              "\n",
              "      <script>\n",
              "        const buttonEl =\n",
              "          document.querySelector('#df-847f71c3-d204-4e3d-95be-417c40ccc75d button.colab-df-convert');\n",
              "        buttonEl.style.display =\n",
              "          google.colab.kernel.accessAllowed ? 'block' : 'none';\n",
              "\n",
              "        async function convertToInteractive(key) {\n",
              "          const element = document.querySelector('#df-847f71c3-d204-4e3d-95be-417c40ccc75d');\n",
              "          const dataTable =\n",
              "            await google.colab.kernel.invokeFunction('convertToInteractive',\n",
              "                                                     [key], {});\n",
              "          if (!dataTable) return;\n",
              "\n",
              "          const docLinkHtml = 'Like what you see? Visit the ' +\n",
              "            '<a target=\"_blank\" href=https://colab.research.google.com/notebooks/data_table.ipynb>data table notebook</a>'\n",
              "            + ' to learn more about interactive tables.';\n",
              "          element.innerHTML = '';\n",
              "          dataTable['output_type'] = 'display_data';\n",
              "          await google.colab.output.renderOutput(dataTable, element);\n",
              "          const docLink = document.createElement('div');\n",
              "          docLink.innerHTML = docLinkHtml;\n",
              "          element.appendChild(docLink);\n",
              "        }\n",
              "      </script>\n",
              "    </div>\n",
              "  </div>\n",
              "  "
            ]
          },
          "metadata": {},
          "execution_count": 7
        }
      ],
      "source": [
        "retornos"
      ]
    },
    {
      "cell_type": "code",
      "execution_count": 8,
      "id": "c9037095",
      "metadata": {
        "id": "c9037095",
        "outputId": "c113e884-ecf0-4e0b-9efc-cdd49965edfd",
        "colab": {
          "base_uri": "https://localhost:8080/"
        }
      },
      "outputs": [
        {
          "output_type": "execute_result",
          "data": {
            "text/plain": [
              "OURO          0.050456\n",
              "DOLAR         0.058558\n",
              "IBOV          0.072456\n",
              "S&P500        0.043855\n",
              "OURO_BRL      0.071403\n",
              "S&P500_BRL    0.060654\n",
              "dtype: float64"
            ]
          },
          "metadata": {},
          "execution_count": 8
        }
      ],
      "source": [
        "desvio = retornos - retornos.mean()\n",
        "desvio_quadrado = desvio**2\n",
        "media_desvio_quadrado = desvio_quadrado.mean()\n",
        "\n",
        "volatilidade = np.sqrt(media_desvio_quadrado)\n",
        "volatilidade"
      ]
    },
    {
      "cell_type": "code",
      "execution_count": 9,
      "id": "b423b51c",
      "metadata": {
        "id": "b423b51c",
        "outputId": "a74aa32f-d6bf-439b-8c78-40bdcf35fd54",
        "colab": {
          "base_uri": "https://localhost:8080/"
        }
      },
      "outputs": [
        {
          "output_type": "execute_result",
          "data": {
            "text/plain": [
              "OURO          0.050675\n",
              "DOLAR         0.058812\n",
              "IBOV          0.072770\n",
              "S&P500        0.044045\n",
              "OURO_BRL      0.071712\n",
              "S&P500_BRL    0.060917\n",
              "dtype: float64"
            ]
          },
          "metadata": {},
          "execution_count": 9
        }
      ],
      "source": [
        "retornos.std()"
      ]
    },
    {
      "cell_type": "markdown",
      "id": "854112f9",
      "metadata": {
        "id": "854112f9"
      },
      "source": [
        "Por que eles não combinam? Porque, por padrão, o método .std() calcula o desvio padrão da amostra, o que significa que ele usa o denominador de 𝑛−1 . Por outro lado, calculamos o desvio padrão da população, que usa um numerador de 𝑛 . Como os retornos observados são considerados amostras observadas de uma distribuição, provavelmente é mais preciso usar o denominador de 𝑛−1 , então vamos refazer nosso cálculo para ver se obtemos o mesmo número.\n",
        "\n",
        "Para obter o número de observações, podemos usar o atributo .shape de um DataFrame que retorna uma tupla do número de linhas e colunas."
      ]
    },
    {
      "cell_type": "code",
      "execution_count": 10,
      "id": "2bebbf9e",
      "metadata": {
        "id": "2bebbf9e",
        "outputId": "2a16ebfc-b986-4d6b-fb5c-4a8465989e3a",
        "colab": {
          "base_uri": "https://localhost:8080/"
        }
      },
      "outputs": [
        {
          "output_type": "execute_result",
          "data": {
            "text/plain": [
              "OURO          0.050675\n",
              "DOLAR         0.058812\n",
              "IBOV          0.072770\n",
              "S&P500        0.044045\n",
              "OURO_BRL      0.071712\n",
              "S&P500_BRL    0.060917\n",
              "dtype: float64"
            ]
          },
          "metadata": {},
          "execution_count": 10
        }
      ],
      "source": [
        "numero_obs = retornos.shape[0]\n",
        "media_desvio_quadrado = desvio_quadrado.sum()/(numero_obs-1)\n",
        "volatilidade = np.sqrt(media_desvio_quadrado)\n",
        "volatilidade"
      ]
    },
    {
      "cell_type": "markdown",
      "id": "b0a21493",
      "metadata": {
        "id": "b0a21493"
      },
      "source": [
        "# Volatilidade anualizada\n",
        "\n",
        "Anualizamos a volatilidade escalando (multiplicando-a) pela raiz quadrada do número de períodos por observação\n",
        "\n",
        "Portanto, para anualizar a volatilidade de uma série mensal, multiplicamos pela raiz quadrada de 12. Em vez de usar o `np.sqrt()`, podemos elevá-lo à potência de $0,5$\n",
        "\n",
        "Para anualizar uma série diária, devido a variação de dias úteis por ano, podemos definir como valor padrão 240 dias (20 dias úteis mês)."
      ]
    },
    {
      "cell_type": "code",
      "execution_count": 11,
      "id": "007cc571",
      "metadata": {
        "id": "007cc571",
        "outputId": "1319d830-e989-42b6-b7e8-978b9b43a359",
        "colab": {
          "base_uri": "https://localhost:8080/"
        }
      },
      "outputs": [
        {
          "output_type": "execute_result",
          "data": {
            "text/plain": [
              "OURO          0.175544\n",
              "DOLAR         0.203731\n",
              "IBOV          0.252084\n",
              "S&P500        0.152576\n",
              "OURO_BRL      0.248419\n",
              "S&P500_BRL    0.211023\n",
              "dtype: float64"
            ]
          },
          "metadata": {},
          "execution_count": 11
        }
      ],
      "source": [
        "anualizada_vol = retornos.std()*(12**0.5)\n",
        "anualizada_vol"
      ]
    },
    {
      "cell_type": "markdown",
      "id": "afe6fa22",
      "metadata": {
        "id": "afe6fa22"
      },
      "source": [
        "Agora podemos calcular os retornos mensalizados da seguinte forma:"
      ]
    },
    {
      "cell_type": "code",
      "execution_count": 12,
      "id": "cd99fb8f",
      "metadata": {
        "id": "cd99fb8f"
      },
      "outputs": [],
      "source": [
        "#n_dias = retornos.shape[0]\n",
        "#retorno_por_dia = (retornos+1).prod()**(1/n_dias) - 1\n",
        "#retorno_por_dia"
      ]
    },
    {
      "cell_type": "code",
      "execution_count": 13,
      "id": "9cfa3678",
      "metadata": {
        "id": "9cfa3678",
        "outputId": "2b9b702e-76af-4039-dcbd-8884b7459252",
        "colab": {
          "base_uri": "https://localhost:8080/"
        }
      },
      "outputs": [
        {
          "output_type": "execute_result",
          "data": {
            "text/plain": [
              "OURO          0.004694\n",
              "DOLAR         0.008337\n",
              "IBOV          0.004538\n",
              "S&P500        0.011272\n",
              "OURO_BRL      0.013070\n",
              "S&P500_BRL    0.019703\n",
              "dtype: float64"
            ]
          },
          "metadata": {},
          "execution_count": 13
        }
      ],
      "source": [
        "n_meses = retornos.shape[0]\n",
        "retorno_mensal = (retornos+1).prod()**(1/n_meses) - 1\n",
        "retorno_mensal"
      ]
    },
    {
      "cell_type": "code",
      "source": [
        "retorno_anual = (retorno_mensal + 1)**12-1"
      ],
      "metadata": {
        "id": "4H-ntPZbLIwC"
      },
      "id": "4H-ntPZbLIwC",
      "execution_count": 20,
      "outputs": []
    },
    {
      "cell_type": "code",
      "execution_count": 21,
      "id": "726b9504",
      "metadata": {
        "id": "726b9504",
        "outputId": "8644d5f4-5a43-4ec0-9d77-aab2a6ae9258",
        "colab": {
          "base_uri": "https://localhost:8080/"
        }
      },
      "outputs": [
        {
          "output_type": "execute_result",
          "data": {
            "text/plain": [
              "OURO          0.057808\n",
              "DOLAR         0.104757\n",
              "IBOV          0.055833\n",
              "S&P500        0.143979\n",
              "OURO_BRL      0.168621\n",
              "S&P500_BRL    0.263819\n",
              "dtype: float64"
            ]
          },
          "metadata": {},
          "execution_count": 21
        }
      ],
      "source": [
        "retorno_anual = (retornos + 1).prod()**(12/n_meses) - 1\n",
        "retorno_anual"
      ]
    },
    {
      "cell_type": "code",
      "execution_count": 22,
      "id": "95da8517",
      "metadata": {
        "id": "95da8517",
        "outputId": "88fc7ff1-9f9d-4b89-bb08-5f545da3dcec",
        "colab": {
          "base_uri": "https://localhost:8080/"
        }
      },
      "outputs": [
        {
          "output_type": "execute_result",
          "data": {
            "text/plain": [
              "OURO          0.329310\n",
              "DOLAR         0.514191\n",
              "IBOV          0.221487\n",
              "S&P500        0.943653\n",
              "OURO_BRL      0.678777\n",
              "S&P500_BRL    1.250191\n",
              "dtype: float64"
            ]
          },
          "metadata": {},
          "execution_count": 22
        }
      ],
      "source": [
        "retorno_anual/anualizada_vol"
      ]
    },
    {
      "cell_type": "code",
      "execution_count": 23,
      "id": "4ffd4352",
      "metadata": {
        "id": "4ffd4352",
        "outputId": "0b3ad358-f26d-4d3f-9616-ae44dada9925",
        "colab": {
          "base_uri": "https://localhost:8080/"
        }
      },
      "outputs": [
        {
          "output_type": "execute_result",
          "data": {
            "text/plain": [
              "OURO         -0.240349\n",
              "DOLAR         0.023349\n",
              "IBOV         -0.175206\n",
              "S&P500        0.288243\n",
              "OURO_BRL      0.276231\n",
              "S&P500_BRL    0.776308\n",
              "dtype: float64"
            ]
          },
          "metadata": {},
          "execution_count": 23
        }
      ],
      "source": [
        "taxa_semrisco = 0.10\n",
        "retorno_excesso = retorno_anual - taxa_semrisco\n",
        "sharpe_ratio = retorno_excesso/anualizada_vol\n",
        "sharpe_ratio"
      ]
    },
    {
      "cell_type": "code",
      "execution_count": null,
      "id": "5c63beb9",
      "metadata": {
        "id": "5c63beb9"
      },
      "outputs": [],
      "source": [
        ""
      ]
    }
  ],
  "metadata": {
    "kernelspec": {
      "display_name": "Python 3",
      "language": "python",
      "name": "python3"
    },
    "language_info": {
      "codemirror_mode": {
        "name": "ipython",
        "version": 3
      },
      "file_extension": ".py",
      "mimetype": "text/x-python",
      "name": "python",
      "nbconvert_exporter": "python",
      "pygments_lexer": "ipython3",
      "version": "3.8.8"
    },
    "colab": {
      "name": "Volatilidade_Carteira_Ibov_SP500_Ouro.ipynb",
      "provenance": []
    }
  },
  "nbformat": 4,
  "nbformat_minor": 5
}