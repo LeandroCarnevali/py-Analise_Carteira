{
 "cells": [
  {
   "cell_type": "code",
   "execution_count": 1,
   "id": "aa69fc96",
   "metadata": {},
   "outputs": [],
   "source": [
    "%load_ext autoreload\n",
    "%autoreload 2\n",
    "\n",
    "import pandas as pd\n",
    "import matplotlib.pyplot as plt\n",
    "import pandas_datareader.data as web\n",
    "import numpy as np\n",
    "import yfinance as yf\n",
    "from scipy.stats import norm"
   ]
  },
  {
   "cell_type": "code",
   "execution_count": 2,
   "id": "b20b1e5c",
   "metadata": {},
   "outputs": [
    {
     "name": "stdout",
     "output_type": "stream",
     "text": [
      "[*********************100%***********************]  4 of 4 completed\n"
     ]
    }
   ],
   "source": [
    "yf.pdr_override()\n",
    "tickers = \"^BVSP ^GSPC GC=F USDBRL=X\"\n",
    "carteira = yf.download(tickers, interval='1mo', start=\"2008-01-01\")[\"Close\"]\n",
    "carteira.columns = [\"OURO\", \"DOLAR\", \"IBOV\", \"S&P500\"]\n",
    "carteira = carteira.dropna()\n",
    "carteira[\"OURO_BRL\"]=carteira[\"OURO\"]*carteira[\"DOLAR\"]\n",
    "carteira[\"S&P500_BRL\"]=carteira[\"S&P500\"]*carteira[\"DOLAR\"]\n",
    "retornos = carteira.pct_change()[1:]"
   ]
  },
  {
   "cell_type": "code",
   "execution_count": 3,
   "id": "e834d5f2",
   "metadata": {},
   "outputs": [],
   "source": [
    "def retorno_anual(r):\n",
    "    \"\"\"\n",
    "    Anualiza o retorno de um conjunto de ativos\n",
    "    \"\"\"\n",
    "    crescimento_composto = (1+r).prod()\n",
    "    n_periodos = r.shape[0]\n",
    "    return crescimento_composto**(12/n_periodos)-1"
   ]
  },
  {
   "cell_type": "code",
   "execution_count": 4,
   "id": "a6da3271",
   "metadata": {},
   "outputs": [],
   "source": [
    "def portfolio_ret(pesos, retornos):\n",
    "    \"\"\"\n",
    "    Calcula o retorno de uma carteira baseado nos seus retornos e pesos\n",
    "    os pesos são uma matriz numpy ou matriz Nx1 e os retornos são uma matriz numpy ou matriz Nx1\n",
    "    \"\"\"\n",
    "    return pesos.T @ retornos"
   ]
  },
  {
   "cell_type": "code",
   "execution_count": 5,
   "id": "1b392bf8",
   "metadata": {},
   "outputs": [],
   "source": [
    "def portfolio_vol(pesos, covmat):\n",
    "    \"\"\"\n",
    "    Calcula a volatilidade de uma carteira a partir de uma matriz de covariância e pesos\n",
    "    os pesos são uma matriz numpy ou N x 1 maxtrix e covmat é uma matriz N x N\n",
    "    \"\"\"\n",
    "    return (pesos.T @ covmat @ pesos)**0.5"
   ]
  },
  {
   "cell_type": "code",
   "execution_count": 6,
   "id": "e57a3161",
   "metadata": {},
   "outputs": [],
   "source": [
    "retornos_anualizado = retorno_anual(retornos[\"2008\":\"2022\"])\n",
    "cov_retornos = retornos[\"2008\":\"2022\"].cov()"
   ]
  },
  {
   "cell_type": "markdown",
   "id": "c16ba10c",
   "metadata": {},
   "source": [
    "# Fronteira Eficiente - Executando o Otimizador\n",
    "\n",
    "Para traçar a fronteira para carteiras com mais de 2 ativos, precisamos encontrar os pesos na carteira da fronteira eficiente.\n",
    "\n",
    "Começamos criando o mesmo tipo de função que já criamos para o caso de 2 ativos:"
   ]
  },
  {
   "cell_type": "code",
   "execution_count": 7,
   "id": "735c432b",
   "metadata": {},
   "outputs": [],
   "source": [
    "def plot_front_ef(n_ptos, rets, cov):\n",
    "    \"\"\"\n",
    "    Plota a fronteira eficiente de 2 ativos\n",
    "    \"\"\"\n",
    "    if rets.shape[0] != 2 or rets.shape[0] != 2:\n",
    "        raise ValueError(\"plot_front_ef pode plotar somente a fronteira de 2 ativos\")\n",
    "    pesos = [np.array([w, 1-w]) for w in np.linspace(0, 1, n_ptos)]\n",
    "    rets_ = [portfolio_ret(w, rets) for w in pesos]\n",
    "    vols_ = [portfolio_vol(w, cov) for w in pesos]\n",
    "    ef = pd.DataFrame({\n",
    "        \"Retornos\": rets_, \n",
    "        \"Volatilidade\": vols_\n",
    "    })\n",
    "    return ef.plot.line(x=\"Volatilidade\", y=\"Retornos\", style=\".-\")\n"
   ]
  },
  {
   "cell_type": "code",
   "execution_count": 8,
   "id": "195a479f",
   "metadata": {},
   "outputs": [
    {
     "data": {
      "text/plain": [
       "<AxesSubplot:xlabel='Volatilidade'>"
      ]
     },
     "execution_count": 8,
     "metadata": {},
     "output_type": "execute_result"
    },
    {
     "data": {
      "image/png": "[encoded data removed]",
      "text/plain": [
       "<Figure size 432x288 with 1 Axes>"
      ]
     },
     "metadata": {
      "needs_background": "light"
     },
     "output_type": "display_data"
    }
   ],
   "source": [
    "l = [\"OURO_BRL\", \"IBOV\"]\n",
    "plot_front_ef(30, retornos_anualizado[l].values, cov_retornos.loc[l,l])"
   ]
  },
  {
   "cell_type": "markdown",
   "id": "dd484a1e",
   "metadata": {},
   "source": [
    "Para encontrar os pesos otimizados, precisamos de uma função que minimize a volatilidade para um determinado nível de retorno.\n",
    "\n",
    "A Fronteira Eficiente para o portfolio que tem um retorno alvo de 0,125 é de aproximadamente 0,035, então vamos ver se nosso otimizador consegue localizá-lo."
   ]
  },
  {
   "cell_type": "code",
   "execution_count": 9,
   "id": "3e2c13d0",
   "metadata": {},
   "outputs": [],
   "source": [
    "from scipy.optimize import minimize\n",
    "\n",
    "def minimiza_vol(retorno_alvo, rets, cov):\n",
    "    \"\"\"\n",
    "    Retorna os pesos otimizados que atingem o retorno desejado\n",
    "    dado um conjunto de retornos esperados e uma matriz de covariância\n",
    "    \"\"\"\n",
    "    n = rets.shape[0]\n",
    "    palpite_ini = np.repeat(1/n, n)\n",
    "    limites = ((0.0, 1.0),) * n # uma N-tupla de 2-tuplas!\n",
    "    #construir as restrições\n",
    "    pesos_somar_ate_1 = {'type': 'eq',\n",
    "                        'fun': lambda pesos: np.sum(pesos) - 1\n",
    "    }\n",
    "    retorno_alvo_ = {'type': 'eq',\n",
    "                        'args': (rets,),\n",
    "                        'fun': lambda pesos, rets: retorno_alvo - portfolio_ret(pesos, rets)\n",
    "    }\n",
    "    pesos = minimize(portfolio_vol, palpite_ini,\n",
    "                       args=(cov,), method='SLSQP',\n",
    "                       options={'disp': False},\n",
    "                       constraints=(pesos_somar_ate_1,retorno_alvo_),\n",
    "                       bounds=limites)\n",
    "    return pesos.x"
   ]
  },
  {
   "cell_type": "code",
   "execution_count": 10,
   "id": "c3b186ff",
   "metadata": {},
   "outputs": [
    {
     "data": {
      "text/plain": [
       "0.046337621381305774"
      ]
     },
     "execution_count": 10,
     "metadata": {},
     "output_type": "execute_result"
    }
   ],
   "source": [
    "pesos_125 = minimiza_vol(0.125, retornos_anualizado[l], cov_retornos.loc[l,l])\n",
    "vol_125 = portfolio_vol(pesos_125, cov_retornos.loc[l,l])\n",
    "vol_125"
   ]
  },
  {
   "cell_type": "markdown",
   "id": "58452e0d",
   "metadata": {},
   "source": [
    "Perfeito!\n",
    "\n",
    "Agora que podemos encontrar os pesos para minimizar a volatilidade dado um retorno alvo, podemos traçar a fronteira eficiente dividindo o intervalo do retorno mais alto ao mais baixo possível em uma grade e encontrando a carteira que visa a volatilidade mínima dada um determinada taxa de retorno alvo."
   ]
  },
  {
   "cell_type": "code",
   "execution_count": 11,
   "id": "306be73e",
   "metadata": {},
   "outputs": [],
   "source": [
    "def otimizador_pesos(n_ptos, rets, cov):\n",
    "    \"\"\"\n",
    "    \"\"\"\n",
    "    rets_alvo = np.linspace(rets.min(), rets.max(), n_ptos)\n",
    "    pesos = [minimiza_vol(retorno_alvo, rets, cov) for retorno_alvo in rets_alvo]\n",
    "    return pesos"
   ]
  },
  {
   "cell_type": "code",
   "execution_count": 12,
   "id": "0a016a1d",
   "metadata": {},
   "outputs": [],
   "source": [
    "def plot_front_ef_v2(n_ptos, rets, cov):\n",
    "    \"\"\"\n",
    "    Plota a fronteira eficiente de N ativos\n",
    "    \"\"\"\n",
    "\n",
    "    pesos = otimizador_pesos(n_ptos, rets, cov) \n",
    "    rets_ = [portfolio_ret(w, rets) for w in pesos]\n",
    "    vols_ = [portfolio_vol(w, cov) for w in pesos]\n",
    "    ef = pd.DataFrame({\n",
    "        \"Retornos\": rets_, \n",
    "        \"Volatilidade\": vols_\n",
    "    })\n",
    "    return ef.plot.line(x=\"Volatilidade\", y=\"Retornos\", style=\".-\")"
   ]
  },
  {
   "cell_type": "code",
   "execution_count": 13,
   "id": "e3980a91",
   "metadata": {},
   "outputs": [
    {
     "data": {
      "text/plain": [
       "<AxesSubplot:xlabel='Volatilidade'>"
      ]
     },
     "execution_count": 13,
     "metadata": {},
     "output_type": "execute_result"
    },
    {
     "data": {
      "image/png": "[encoded data removed]",
      "text/plain": [
       "<Figure size 432x288 with 1 Axes>"
      ]
     },
     "metadata": {
      "needs_background": "light"
     },
     "output_type": "display_data"
    }
   ],
   "source": [
    "l = [\"IBOV\", \"OURO_BRL\", \"S&P500_BRL\"]\n",
    "plot_front_ef_v2(50, retornos_anualizado[l].values, cov_retornos.loc[l,l])"
   ]
  },
  {
   "cell_type": "code",
   "execution_count": 17,
   "id": "ece00985",
   "metadata": {},
   "outputs": [
    {
     "name": "stdout",
     "output_type": "stream",
     "text": [
      "IBOV : 0.28\n",
      "OURO_BRL : 0.27\n",
      "S&P500_BRL : 0.45\n"
     ]
    }
   ],
   "source": [
    "peso_retorno_18 = minimiza_vol(0.15, retornos_anualizado[l], cov_retornos.loc[l,l])\n",
    "print(l[0], ':', np.round(peso_retorno_18[0],2))\n",
    "print(l[1], ':', np.round(peso_retorno_18[1],2))\n",
    "print(l[2], ':', np.round(peso_retorno_18[2],2))"
   ]
  },
  {
   "cell_type": "code",
   "execution_count": null,
   "id": "ff48be68",
   "metadata": {},
   "outputs": [],
   "source": []
  }
 ],
 "metadata": {
  "kernelspec": {
   "display_name": "Python 3",
   "language": "python",
   "name": "python3"
  },
  "language_info": {
   "codemirror_mode": {
    "name": "ipython",
    "version": 3
   },
   "file_extension": ".py",
   "mimetype": "text/x-python",
   "name": "python",
   "nbconvert_exporter": "python",
   "pygments_lexer": "ipython3",
   "version": "3.8.8"
  }
 },
 "nbformat": 4,
 "nbformat_minor": 5
}
