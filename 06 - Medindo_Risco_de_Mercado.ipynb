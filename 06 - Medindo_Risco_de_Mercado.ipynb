{
 "cells": [
  {
   "cell_type": "code",
   "execution_count": 1,
   "metadata": {
    "colab": {
     "base_uri": "https://localhost:8080/"
    },
    "id": "1NidKet2IVq2",
    "outputId": "7b61567e-85ee-4569-c96b-577ecdf72592"
   },
   "outputs": [
    {
     "name": "stdout",
     "output_type": "stream",
     "text": [
      "Looking in indexes: https://pypi.org/simple, https://us-python.pkg.dev/colab-wheels/public/simple/\n",
      "Requirement already satisfied: yfinance in /usr/local/lib/python3.7/dist-packages (0.1.70)\n",
      "Requirement already satisfied: multitasking>=0.0.7 in /usr/local/lib/python3.7/dist-packages (from yfinance) (0.0.10)\n",
      "Requirement already satisfied: lxml>=4.5.1 in /usr/local/lib/python3.7/dist-packages (from yfinance) (4.8.0)\n",
      "Requirement already satisfied: requests>=2.26 in /usr/local/lib/python3.7/dist-packages (from yfinance) (2.27.1)\n",
      "Requirement already satisfied: numpy>=1.15 in /usr/local/lib/python3.7/dist-packages (from yfinance) (1.21.6)\n",
      "Requirement already satisfied: pandas>=0.24.0 in /usr/local/lib/python3.7/dist-packages (from yfinance) (1.3.5)\n",
      "Requirement already satisfied: pytz>=2017.3 in /usr/local/lib/python3.7/dist-packages (from pandas>=0.24.0->yfinance) (2022.1)\n",
      "Requirement already satisfied: python-dateutil>=2.7.3 in /usr/local/lib/python3.7/dist-packages (from pandas>=0.24.0->yfinance) (2.8.2)\n",
      "Requirement already satisfied: six>=1.5 in /usr/local/lib/python3.7/dist-packages (from python-dateutil>=2.7.3->pandas>=0.24.0->yfinance) (1.15.0)\n",
      "Requirement already satisfied: certifi>=2017.4.17 in /usr/local/lib/python3.7/dist-packages (from requests>=2.26->yfinance) (2022.5.18.1)\n",
      "Requirement already satisfied: charset-normalizer~=2.0.0 in /usr/local/lib/python3.7/dist-packages (from requests>=2.26->yfinance) (2.0.12)\n",
      "Requirement already satisfied: urllib3<1.27,>=1.21.1 in /usr/local/lib/python3.7/dist-packages (from requests>=2.26->yfinance) (1.24.3)\n",
      "Requirement already satisfied: idna<4,>=2.5 in /usr/local/lib/python3.7/dist-packages (from requests>=2.26->yfinance) (2.10)\n"
     ]
    }
   ],
   "source": [
    "!pip install yfinance"
   ]
  },
  {
   "cell_type": "code",
   "execution_count": 2,
   "metadata": {
    "id": "Ec2sYMERSBI0"
   },
   "outputs": [],
   "source": [
    "%load_ext autoreload\n",
    "%autoreload 2\n",
    "\n",
    "import pandas as pd\n",
    "import matplotlib.pyplot as plt\n",
    "import pandas_datareader.data as web\n",
    "import numpy as np\n",
    "import yfinance as yf"
   ]
  },
  {
   "cell_type": "code",
   "execution_count": 3,
   "metadata": {
    "id": "umV27C1kSI2E"
   },
   "outputs": [],
   "source": [
    "def Drawdown(serie_retorno: pd.Series):\n",
    "  if isinstance(serie_retorno, pd.Series):\n",
    "    retornos_acc = (1+serie_retorno).cumprod()-1\n",
    "    picos_retornos = retornos_acc.cummax()\n",
    "    drawdown = ((1+retornos_acc)-(1+picos_retornos))/(1+picos_retornos)\n",
    "    return pd.DataFrame({\"Retornos_Acc\": retornos_acc, \n",
    "                         \"Picos_Retornos\": picos_retornos, \n",
    "                         \"Drawdown\": drawdown})\n",
    "  else:\n",
    "        raise TypeError(\"Esperado que serie_retorno seja um objeto do tipo Series\")  "
   ]
  },
  {
   "cell_type": "code",
   "execution_count": 4,
   "metadata": {
    "colab": {
     "base_uri": "https://localhost:8080/"
    },
    "id": "Fc68B5DOSLQc",
    "outputId": "6fae181d-91fa-40d4-e44f-2c9d53d0c47e"
   },
   "outputs": [
    {
     "name": "stdout",
     "output_type": "stream",
     "text": [
      "[*********************100%***********************]  4 of 4 completed\n"
     ]
    }
   ],
   "source": [
    "yf.pdr_override()\n",
    "tickers = \"^BVSP ^GSPC GC=F USDBRL=X\"\n",
    "carteira = yf.download(tickers, interval='1mo', start=\"2008-01-01\")[\"Close\"]\n",
    "carteira.columns = [\"OURO\", \"DOLAR\", \"IBOV\", \"S&P500\"]\n",
    "carteira = carteira.dropna()\n",
    "carteira[\"OURO_BRL\"]=carteira[\"OURO\"]*carteira[\"DOLAR\"]\n",
    "carteira[\"S&P500_BRL\"]=carteira[\"S&P500\"]*carteira[\"DOLAR\"]"
   ]
  },
  {
   "cell_type": "code",
   "execution_count": 5,
   "metadata": {
    "id": "zZpPIP2xTDiw"
   },
   "outputs": [],
   "source": [
    "retornos = carteira.pct_change()[1:]"
   ]
  },
  {
   "cell_type": "code",
   "execution_count": 6,
   "metadata": {
    "colab": {
     "base_uri": "https://localhost:8080/",
     "height": 238
    },
    "id": "9mh44he8ViN3",
    "outputId": "48f26267-fdf8-47b0-be3a-aaba98bc4daf"
   },
   "outputs": [
    {
     "data": {
      "text/html": [
       "\n",
       "  <div id=\"df-ef5f7e2e-e369-4330-b40f-c81c1d0e6948\">\n",
       "    <div class=\"colab-df-container\">\n",
       "      <div>\n",
       "<style scoped>\n",
       "    .dataframe tbody tr th:only-of-type {\n",
       "        vertical-align: middle;\n",
       "    }\n",
       "\n",
       "    .dataframe tbody tr th {\n",
       "        vertical-align: top;\n",
       "    }\n",
       "\n",
       "    .dataframe thead th {\n",
       "        text-align: right;\n",
       "    }\n",
       "</style>\n",
       "<table border=\"1\" class=\"dataframe\">\n",
       "  <thead>\n",
       "    <tr style=\"text-align: right;\">\n",
       "      <th></th>\n",
       "      <th>Retornos_Acc</th>\n",
       "      <th>Picos_Retornos</th>\n",
       "      <th>Drawdown</th>\n",
       "    </tr>\n",
       "    <tr>\n",
       "      <th>Date</th>\n",
       "      <th></th>\n",
       "      <th></th>\n",
       "      <th></th>\n",
       "    </tr>\n",
       "  </thead>\n",
       "  <tbody>\n",
       "    <tr>\n",
       "      <th>2008-02-01</th>\n",
       "      <td>0.067221</td>\n",
       "      <td>0.067221</td>\n",
       "      <td>0.000000</td>\n",
       "    </tr>\n",
       "    <tr>\n",
       "      <th>2008-03-01</th>\n",
       "      <td>0.024845</td>\n",
       "      <td>0.067221</td>\n",
       "      <td>-0.039708</td>\n",
       "    </tr>\n",
       "    <tr>\n",
       "      <th>2008-04-01</th>\n",
       "      <td>0.140830</td>\n",
       "      <td>0.140830</td>\n",
       "      <td>0.000000</td>\n",
       "    </tr>\n",
       "    <tr>\n",
       "      <th>2008-05-01</th>\n",
       "      <td>0.220256</td>\n",
       "      <td>0.220256</td>\n",
       "      <td>0.000000</td>\n",
       "    </tr>\n",
       "    <tr>\n",
       "      <th>2008-07-01</th>\n",
       "      <td>0.000252</td>\n",
       "      <td>0.220256</td>\n",
       "      <td>-0.180293</td>\n",
       "    </tr>\n",
       "  </tbody>\n",
       "</table>\n",
       "</div>\n",
       "      <button class=\"colab-df-convert\" onclick=\"convertToInteractive('df-ef5f7e2e-e369-4330-b40f-c81c1d0e6948')\"\n",
       "              title=\"Convert this dataframe to an interactive table.\"\n",
       "              style=\"display:none;\">\n",
       "        \n",
       "  <svg xmlns=\"http://www.w3.org/2000/svg\" height=\"24px\"viewBox=\"0 0 24 24\"\n",
       "       width=\"24px\">\n",
       "    <path d=\"M0 0h24v24H0V0z\" fill=\"none\"/>\n",
       "    <path d=\"M18.56 5.44l.94 2.06.94-2.06 2.06-.94-2.06-.94-.94-2.06-.94 2.06-2.06.94zm-11 1L8.5 8.5l.94-2.06 2.06-.94-2.06-.94L8.5 2.5l-.94 2.06-2.06.94zm10 10l.94 2.06.94-2.06 2.06-.94-2.06-.94-.94-2.06-.94 2.06-2.06.94z\"/><path d=\"M17.41 7.96l-1.37-1.37c-.4-.4-.92-.59-1.43-.59-.52 0-1.04.2-1.43.59L10.3 9.45l-7.72 7.72c-.78.78-.78 2.05 0 2.83L4 21.41c.39.39.9.59 1.41.59.51 0 1.02-.2 1.41-.59l7.78-7.78 2.81-2.81c.8-.78.8-2.07 0-2.86zM5.41 20L4 18.59l7.72-7.72 1.47 1.35L5.41 20z\"/>\n",
       "  </svg>\n",
       "      </button>\n",
       "      \n",
       "  <style>\n",
       "    .colab-df-container {\n",
       "      display:flex;\n",
       "      flex-wrap:wrap;\n",
       "      gap: 12px;\n",
       "    }\n",
       "\n",
       "    .colab-df-convert {\n",
       "      background-color: #E8F0FE;\n",
       "      border: none;\n",
       "      border-radius: 50%;\n",
       "      cursor: pointer;\n",
       "      display: none;\n",
       "      fill: #1967D2;\n",
       "      height: 32px;\n",
       "      padding: 0 0 0 0;\n",
       "      width: 32px;\n",
       "    }\n",
       "\n",
       "    .colab-df-convert:hover {\n",
       "      background-color: #E2EBFA;\n",
       "      box-shadow: 0px 1px 2px rgba(60, 64, 67, 0.3), 0px 1px 3px 1px rgba(60, 64, 67, 0.15);\n",
       "      fill: #174EA6;\n",
       "    }\n",
       "\n",
       "    [theme=dark] .colab-df-convert {\n",
       "      background-color: #3B4455;\n",
       "      fill: #D2E3FC;\n",
       "    }\n",
       "\n",
       "    [theme=dark] .colab-df-convert:hover {\n",
       "      background-color: #434B5C;\n",
       "      box-shadow: 0px 1px 3px 1px rgba(0, 0, 0, 0.15);\n",
       "      filter: drop-shadow(0px 1px 2px rgba(0, 0, 0, 0.3));\n",
       "      fill: #FFFFFF;\n",
       "    }\n",
       "  </style>\n",
       "\n",
       "      <script>\n",
       "        const buttonEl =\n",
       "          document.querySelector('#df-ef5f7e2e-e369-4330-b40f-c81c1d0e6948 button.colab-df-convert');\n",
       "        buttonEl.style.display =\n",
       "          google.colab.kernel.accessAllowed ? 'block' : 'none';\n",
       "\n",
       "        async function convertToInteractive(key) {\n",
       "          const element = document.querySelector('#df-ef5f7e2e-e369-4330-b40f-c81c1d0e6948');\n",
       "          const dataTable =\n",
       "            await google.colab.kernel.invokeFunction('convertToInteractive',\n",
       "                                                     [key], {});\n",
       "          if (!dataTable) return;\n",
       "\n",
       "          const docLinkHtml = 'Like what you see? Visit the ' +\n",
       "            '<a target=\"_blank\" href=https://colab.research.google.com/notebooks/data_table.ipynb>data table notebook</a>'\n",
       "            + ' to learn more about interactive tables.';\n",
       "          element.innerHTML = '';\n",
       "          dataTable['output_type'] = 'display_data';\n",
       "          await google.colab.output.renderOutput(dataTable, element);\n",
       "          const docLink = document.createElement('div');\n",
       "          docLink.innerHTML = docLinkHtml;\n",
       "          element.appendChild(docLink);\n",
       "        }\n",
       "      </script>\n",
       "    </div>\n",
       "  </div>\n",
       "  "
      ],
      "text/plain": [
       "            Retornos_Acc  Picos_Retornos  Drawdown\n",
       "Date                                              \n",
       "2008-02-01      0.067221        0.067221  0.000000\n",
       "2008-03-01      0.024845        0.067221 -0.039708\n",
       "2008-04-01      0.140830        0.140830  0.000000\n",
       "2008-05-01      0.220256        0.220256  0.000000\n",
       "2008-07-01      0.000252        0.220256 -0.180293"
      ]
     },
     "execution_count": 6,
     "metadata": {},
     "output_type": "execute_result"
    }
   ],
   "source": [
    "Drawdown(retornos['IBOV']).head()"
   ]
  },
  {
   "cell_type": "markdown",
   "metadata": {
    "id": "4bW3BLzeQ1Rp"
   },
   "source": [
    "#Medidas de Risco: Semi-Desvio, VaR and CVaR\n",
    "Vamos analisar algumas medidas de risco de queda. Já vimos como calcular drawdown no notebook 04, agora veremos 3 medidas populares e desenvolveremos código para calculá-las e adicioná-las à nossa caixa de ferramentas.\n",
    "\n",
    "A primeira medida é a mais simples, que é a semi-desvio, que nada mais é do que a volatilidade do subconjunto de retornos que são negativos."
   ]
  },
  {
   "cell_type": "code",
   "execution_count": 7,
   "metadata": {
    "id": "ndP6lnCVSO8T"
   },
   "outputs": [],
   "source": [
    "def semidesvio(r):\n",
    "    \"\"\"\n",
    "    Retorna o semi-desvio aka semi-desvio negativo de r\n",
    "    r deve ser um objeto do tipo \"Series\" ou \"DataFrame\", caso contrário ocorrerá um erro\n",
    "    \"\"\"\n",
    "    if isinstance(r, pd.DataFrame) or isinstance(r, pd.Series):\n",
    "      is_negative = r < 0\n",
    "      return r[is_negative].std(ddof=0)\n",
    "    else:\n",
    "        raise TypeError(\"Esperado que r seja um objeto do tipo Series ou DataFrame\")"
   ]
  },
  {
   "cell_type": "code",
   "execution_count": 8,
   "metadata": {
    "colab": {
     "base_uri": "https://localhost:8080/"
    },
    "id": "d1YmnNT5Sy53",
    "outputId": "761400ac-d7b2-4737-aee2-8df7cd193a8a"
   },
   "outputs": [
    {
     "data": {
      "text/plain": [
       "OURO          0.034533\n",
       "DOLAR         0.029810\n",
       "IBOV          0.050062\n",
       "S&P500        0.033715\n",
       "OURO_BRL      0.033272\n",
       "S&P500_BRL    0.036506\n",
       "dtype: float64"
      ]
     },
     "execution_count": 8,
     "metadata": {},
     "output_type": "execute_result"
    }
   ],
   "source": [
    "semidesvio(retornos)"
   ]
  },
  {
   "cell_type": "code",
   "execution_count": 9,
   "metadata": {
    "colab": {
     "base_uri": "https://localhost:8080/"
    },
    "id": "y8_5nge-S6Gu",
    "outputId": "77fa60d6-f06d-4379-e699-d607a44d2191"
   },
   "outputs": [
    {
     "data": {
      "text/plain": [
       "OURO          0.034533\n",
       "DOLAR         0.029810\n",
       "IBOV          0.050062\n",
       "S&P500        0.033715\n",
       "OURO_BRL      0.033272\n",
       "S&P500_BRL    0.036506\n",
       "dtype: float64"
      ]
     },
     "execution_count": 9,
     "metadata": {},
     "output_type": "execute_result"
    }
   ],
   "source": [
    "retornos[retornos<0].std(ddof=0)"
   ]
  },
  {
   "cell_type": "code",
   "execution_count": 10,
   "metadata": {
    "colab": {
     "base_uri": "https://localhost:8080/"
    },
    "id": "_k5uHgq_TnMJ",
    "outputId": "852c17b9-4d3a-496d-a7e0-e2945751a386"
   },
   "outputs": [
    {
     "data": {
      "text/plain": [
       "DOLAR         0.029810\n",
       "OURO_BRL      0.033272\n",
       "S&P500        0.033715\n",
       "OURO          0.034533\n",
       "S&P500_BRL    0.036506\n",
       "IBOV          0.050062\n",
       "dtype: float64"
      ]
     },
     "execution_count": 10,
     "metadata": {},
     "output_type": "execute_result"
    }
   ],
   "source": [
    "semidesvio(retornos).sort_values()"
   ]
  },
  {
   "cell_type": "markdown",
   "metadata": {
    "id": "Hr51iAmnUAY5"
   },
   "source": [
    "# VaR and CVaR\n",
    "\n",
    "Veremos três maneiras diferentes de calcular o valor em risco\n",
    "\n",
    "1. VaR Histórico\n",
    "2. VaR Gaussiano Paramétrico\n",
    "3. VaR Modificado (Cornish-Fisher)\n",
    "\n",
    "Para calcular o VaR histórico em um determinado nível, digamos 5%, tudo o que temos a fazer é encontrar o número tal que 5% dos retornos fiquem abaixo desse número e 95% dos retornos fiquem acima desse número. Em outras palavras, queremos o retorno de 5 percentil.\n",
    "\n",
    "Felizmente, numpy tem uma função `np.percentile` que calcula exatamente isso."
   ]
  },
  {
   "cell_type": "code",
   "execution_count": 11,
   "metadata": {
    "id": "wrBr7ERgT__J"
   },
   "outputs": [],
   "source": [
    "def VaR_Historico(r, level=5):\n",
    "    \"\"\"\n",
    "    Retorna Valor de Risco (VaR) histórico no nível (level) especificado\n",
    "    i.e. retorna o número tal qual a porcentagem nível (level) dos retornos\n",
    "    caiam abaixo desse número, e os por cento (nível 100) estão acima\n",
    "    \"\"\"\n",
    "    if isinstance(r, pd.DataFrame):\n",
    "        return r.aggregate(VaR_Historico, level=level)\n",
    "    elif isinstance(r, pd.Series):\n",
    "        return -np.percentile(r, level)\n",
    "    else:\n",
    "        raise TypeError(\"Esperado que r seja um objeto do tipo Series ou DataFrame\")"
   ]
  },
  {
   "cell_type": "code",
   "execution_count": 12,
   "metadata": {
    "colab": {
     "base_uri": "https://localhost:8080/"
    },
    "id": "ZdWaKOkJXIkW",
    "outputId": "87dd6164-528c-49c4-e878-1aa377663d09"
   },
   "outputs": [
    {
     "data": {
      "text/plain": [
       "OURO          0.118695\n",
       "DOLAR         0.108264\n",
       "IBOV          0.224951\n",
       "S&P500        0.093552\n",
       "OURO_BRL      0.114700\n",
       "S&P500_BRL    0.143230\n",
       "dtype: float64"
      ]
     },
     "execution_count": 12,
     "metadata": {},
     "output_type": "execute_result"
    }
   ],
   "source": [
    "VaR_Historico(retornos, level=1)"
   ]
  },
  {
   "cell_type": "markdown",
   "metadata": {
    "id": "KSC-rdi9YUCf"
   },
   "source": [
    "Observe que, para fins de relatório, é comum inverter o sinal para relatar um número positivo para representar a _perda_ ou seja, o valor que está em risco.\n"
   ]
  },
  {
   "cell_type": "markdown",
   "metadata": {
    "id": "kR5UcdLwZBwE"
   },
   "source": [
    "# VaR Condicional Aka Perda Média Esperada\n",
    "\n",
    "Agora que temos o VaR, o CVaR é muito fácil. Tudo o que precisamos é encontrar a média dos números que caíram abaixo do VaR!"
   ]
  },
  {
   "cell_type": "code",
   "execution_count": 13,
   "metadata": {
    "id": "NlGBgldoYS8J"
   },
   "outputs": [],
   "source": [
    "def CVaR_Historico(r, level=5):\n",
    "    \"\"\"\n",
    "    Retorna Valor de Risco (VaR) condicional\n",
    "    \"\"\"\n",
    "    if isinstance(r, pd.DataFrame):\n",
    "        return r.aggregate(CVaR_Historico, level=level)\n",
    "    elif isinstance(r, pd.Series):\n",
    "        is_beyond = r <= -VaR_Historico(r, level=level)\n",
    "        return -r[is_beyond].mean()\n",
    "    else:\n",
    "        raise TypeError(\"Esperado que r seja um objeto do tipo Series ou DataFrame\")"
   ]
  },
  {
   "cell_type": "code",
   "execution_count": 14,
   "metadata": {
    "colab": {
     "base_uri": "https://localhost:8080/"
    },
    "id": "zZZyA5ggE15s",
    "outputId": "faa50ce4-c657-47e4-f80b-cdd1d5bdfcec"
   },
   "outputs": [
    {
     "data": {
      "text/plain": [
       "OURO_BRL      0.125456\n",
       "S&P500        0.132199\n",
       "DOLAR         0.134752\n",
       "OURO          0.150631\n",
       "S&P500_BRL    0.158896\n",
       "IBOV          0.248554\n",
       "dtype: float64"
      ]
     },
     "execution_count": 14,
     "metadata": {},
     "output_type": "execute_result"
    }
   ],
   "source": [
    "CVaR_Historico(retornos, level=1).sort_values()"
   ]
  },
  {
   "cell_type": "markdown",
   "metadata": {
    "id": "USxVZNccGD98"
   },
   "source": [
    "## VaR Gaussiano Paramétrico\n",
    "\n",
    "A ideia por trás disso é muito simples. Se um conjunto de retornos é normalmente distribuído, sabemos, por exemplo, que 50% dos retornos estão abaixo da média e 50% acima.\n",
    "\n",
    "Também sabemos que aproximadamente dois terços dos retornos estão dentro de 1 desvio padrão. Isso significa que um terço está além de um desvio padrão da média. Como a distribuição normal é simétrica, aproximadamente um sexto (aproximadamente 16%) fica abaixo de um desvio padrão da média. Portanto, se conhecermos a média e o desvio padrão e se assumirmos que os retornos são normalmente distribuídos, o VaR de 16% seria a média menos um desvio padrão.\n",
    "\n",
    "Em geral, sempre podemos converter um ponto percentual em um z-score (que é o número de desvios padrão da média que um número é). Portanto, se pudermos converter o nível de VaR (como 1% ou 5%) em um z-score, podemos calcular o nível de retorno onde esse percentual de retornos está abaixo dele.\n",
    "\n",
    "`scipy.stat.norm` contém uma função `ppf()` que faz exatamente isso. Ele pega um percentil como 0,05 ou 0,01 e fornece o z-score correspondente ao da distribuição normal.\n",
    "\n"
   ]
  },
  {
   "cell_type": "code",
   "execution_count": 15,
   "metadata": {
    "colab": {
     "base_uri": "https://localhost:8080/"
    },
    "id": "omXKTMYpGRhc",
    "outputId": "6180fbc6-c9a4-4bc5-cb37-59077cd9a7b5"
   },
   "outputs": [
    {
     "data": {
      "text/plain": [
       "0.0"
      ]
     },
     "execution_count": 15,
     "metadata": {},
     "output_type": "execute_result"
    }
   ],
   "source": [
    "from scipy.stats import norm\n",
    "norm.ppf(.5)"
   ]
  },
  {
   "cell_type": "code",
   "execution_count": 16,
   "metadata": {
    "colab": {
     "base_uri": "https://localhost:8080/"
    },
    "id": "ISC9SmjFGXH8",
    "outputId": "dab6c162-edf4-4d67-b222-d281d2188eed"
   },
   "outputs": [
    {
     "data": {
      "text/plain": [
       "-0.994457883209753"
      ]
     },
     "execution_count": 16,
     "metadata": {},
     "output_type": "execute_result"
    }
   ],
   "source": [
    "norm.ppf(.16)"
   ]
  },
  {
   "cell_type": "markdown",
   "metadata": {
    "id": "woHEx_qpGY3c"
   },
   "source": [
    "Portanto, tudo o que precisamos fazer para estimar o VaR usando esse método é encontrar o z-score correspondente ao nível percentil e, em seguida, adicionar esses desvios padrão à média, para obter o VaR."
   ]
  },
  {
   "cell_type": "code",
   "execution_count": 17,
   "metadata": {
    "id": "Jt2IpfJLGmD1"
   },
   "outputs": [],
   "source": [
    "def VaR_Gaussian(r, level=5):\n",
    "    \"\"\"\n",
    "    Retorna o VaR Gaussiano Paramétrico\n",
    "    \"\"\"\n",
    "    # Calcula o Z-Score considerando que temos uma distribuição normal\n",
    "    z = norm.ppf(level/100)\n",
    "    return -(r.mean() + z*r.std(ddof=0))"
   ]
  },
  {
   "cell_type": "code",
   "execution_count": 18,
   "metadata": {
    "colab": {
     "base_uri": "https://localhost:8080/"
    },
    "id": "g9VfNBDvHA61",
    "outputId": "949f5e66-6c9d-4349-f273-422ff6b675f4"
   },
   "outputs": [
    {
     "data": {
      "text/plain": [
       "S&P500        0.069608\n",
       "S&P500_BRL    0.082332\n",
       "OURO          0.082491\n",
       "DOLAR         0.088398\n",
       "OURO_BRL      0.106431\n",
       "IBOV          0.121464\n",
       "dtype: float64"
      ]
     },
     "execution_count": 18,
     "metadata": {},
     "output_type": "execute_result"
    }
   ],
   "source": [
    "VaR_Gaussian(retornos).sort_values()"
   ]
  },
  {
   "cell_type": "code",
   "execution_count": 19,
   "metadata": {
    "colab": {
     "base_uri": "https://localhost:8080/"
    },
    "id": "rNZzSs-pHMrt",
    "outputId": "0e0961d0-5ce8-4cae-8bac-3426aba63ab4"
   },
   "outputs": [
    {
     "data": {
      "text/plain": [
       "S&P500_BRL    0.067063\n",
       "S&P500        0.075061\n",
       "DOLAR         0.075861\n",
       "OURO          0.077572\n",
       "OURO_BRL      0.087498\n",
       "IBOV          0.103795\n",
       "dtype: float64"
      ]
     },
     "execution_count": 19,
     "metadata": {},
     "output_type": "execute_result"
    }
   ],
   "source": [
    "VaR_Historico(retornos).sort_values()"
   ]
  },
  {
   "cell_type": "markdown",
   "metadata": {
    "id": "5L0sbf1kXeCj"
   },
   "source": [
    "# Modificação Cornish-Fisher\n",
    "\n",
    "A modificação Cornish-Fisher é um ajuste elegante e simples.\n",
    "\n",
    "O z-score nos diz quantos desvios padrão da média precisamos ir para encontrar o VaR. Se os retornos não forem normais, sabemos que o z-score nos dará um número impreciso. A ideia básica é que, como podemos observar a assimetria e a curtose dos dados, podemos ajustar o z-score para cima ou para baixo para obter um z-score modificado. por exemplo. intuitivamente, todas as outras coisas sendo iguais, se a assimetria for negativa, diminuiremos o z-score mais para baixo e, se a assimetria for positiva, aumentaremos.\n",
    "\n",
    "O z-score ajustado que chamaremos de $z_{cornishfisher}$ dado por:\n",
    "\n",
    "$$ z_{cornishfisher} = z +\\frac{1}{6}(z^2-1)S + \\frac{1}{24}(z^3-3z)(K-3)-\\frac{1}{36}(2z^3-5z)S^2 $$\n",
    "\n"
   ]
  },
  {
   "cell_type": "code",
   "execution_count": 20,
   "metadata": {
    "id": "aXqCfxqhYPDD"
   },
   "outputs": [],
   "source": [
    "def assimetria(r):\n",
    "    # Para definir o desvio padrão da população, parametrizar dof=0\n",
    "    sigma_r = r.std(ddof=0)\n",
    "    exp = ((r - r.mean())**3).mean()\n",
    "    return exp/sigma_r**3"
   ]
  },
  {
   "cell_type": "code",
   "execution_count": 21,
   "metadata": {
    "id": "9hqUmm9bYaxT"
   },
   "outputs": [],
   "source": [
    "def curtose(r):\n",
    "    # Para definir o desvio padrão da população, parametrizar dof=0\n",
    "    sigma_r = r.std(ddof=0)\n",
    "    exp = ((r - r.mean())**4).mean()\n",
    "    return exp/sigma_r**4"
   ]
  },
  {
   "cell_type": "code",
   "execution_count": 22,
   "metadata": {
    "id": "fsrfD3OFYgMz"
   },
   "outputs": [],
   "source": [
    "def VaR_Gaussian(r, level=5, modificado=False):\n",
    "    # Calcula o Z-Score considerando que temos uma distribuição normal\n",
    "    z = norm.ppf(level/100)\n",
    "    if modificado:\n",
    "        # modifica o Z score baseado na assimentria e na curtose observada\n",
    "        a = assimetria(r)\n",
    "        k = curtose(r)\n",
    "        z = (z +\n",
    "                (z**2 - 1)*a/6 +\n",
    "                (z**3 -3*z)*(k-3)/24 -\n",
    "                (2*z**3 - 5*z)*(a**2)/36\n",
    "            )\n",
    "\n",
    "    return -(r.mean() + z*r.std(ddof=0))"
   ]
  },
  {
   "cell_type": "code",
   "execution_count": 23,
   "metadata": {
    "colab": {
     "base_uri": "https://localhost:8080/"
    },
    "id": "7SBNKIQOZI3c",
    "outputId": "7d76765f-7052-4d82-9248-291c6fa21324"
   },
   "outputs": [
    {
     "data": {
      "text/plain": [
       "OURO_BRL      0.036454\n",
       "DOLAR         0.056042\n",
       "S&P500_BRL    0.067636\n",
       "S&P500        0.068254\n",
       "OURO          0.085804\n",
       "IBOV          0.121052\n",
       "dtype: float64"
      ]
     },
     "execution_count": 23,
     "metadata": {},
     "output_type": "execute_result"
    }
   ],
   "source": [
    "VaR_Gaussian(retornos, modificado=True).sort_values()"
   ]
  },
  {
   "cell_type": "code",
   "execution_count": 24,
   "metadata": {
    "colab": {
     "base_uri": "https://localhost:8080/",
     "height": 352
    },
    "id": "zpnInLO4ZSbN",
    "outputId": "7e7fb608-024f-473a-d82f-f4928b5465b5"
   },
   "outputs": [
    {
     "data": {
      "text/plain": [
       "<matplotlib.axes._subplots.AxesSubplot at 0x7f37d1543250>"
      ]
     },
     "execution_count": 24,
     "metadata": {},
     "output_type": "execute_result"
    },
    {
     "data": {
      "image/png": "[encoded data removed]",
      "text/plain": [
       "<Figure size 432x288 with 1 Axes>"
      ]
     },
     "metadata": {
      "needs_background": "light"
     },
     "output_type": "display_data"
    }
   ],
   "source": [
    "tab_comp = [VaR_Gaussian(retornos), \n",
    "            VaR_Gaussian(retornos, modificado=True), \n",
    "            CVaR_Historico(retornos)]\n",
    "comparacao = pd.concat(tab_comp, axis=1)\n",
    "comparacao.columns=['Gaussian', 'Cornish-Fisher', 'Historico']\n",
    "comparacao.plot.bar(title=\"Análise Carteira: VaR at 5%\")"
   ]
  },
  {
   "cell_type": "markdown",
   "metadata": {
    "id": "GEK0-f0laDbu"
   },
   "source": [
    "Observe que, em alguns casos, o VaR do cornish-fisher é menor, ou seja, estima uma perda menor do que você obteria de uma suposição gaussiana pura. Isso pode acontecer se a assimetria observada for positiva, como é o caso do Ouro convertido em reais."
   ]
  },
  {
   "cell_type": "code",
   "execution_count": 25,
   "metadata": {
    "colab": {
     "base_uri": "https://localhost:8080/"
    },
    "id": "1kf_hkWTaPIl",
    "outputId": "85b5be58-a31b-42b1-d9d7-c9f3b3b4bb36"
   },
   "outputs": [
    {
     "data": {
      "text/plain": [
       "OURO_BRL      2.179223\n",
       "DOLAR         1.352035\n",
       "S&P500_BRL    0.604310\n",
       "IBOV         -0.068219\n",
       "S&P500       -0.087157\n",
       "OURO         -0.240181\n",
       "dtype: float64"
      ]
     },
     "execution_count": 25,
     "metadata": {},
     "output_type": "execute_result"
    }
   ],
   "source": [
    "assimetria(retornos).sort_values(ascending=False)"
   ]
  }
 ],
 "metadata": {
  "colab": {
   "collapsed_sections": [],
   "name": "06 - Medindo Risco de Mercado",
   "provenance": []
  },
  "kernelspec": {
   "display_name": "Python 3",
   "language": "python",
   "name": "python3"
  },
  "language_info": {
   "codemirror_mode": {
    "name": "ipython",
    "version": 3
   },
   "file_extension": ".py",
   "mimetype": "text/x-python",
   "name": "python",
   "nbconvert_exporter": "python",
   "pygments_lexer": "ipython3",
   "version": "3.8.8"
  }
 },
 "nbformat": 4,
 "nbformat_minor": 1
}
