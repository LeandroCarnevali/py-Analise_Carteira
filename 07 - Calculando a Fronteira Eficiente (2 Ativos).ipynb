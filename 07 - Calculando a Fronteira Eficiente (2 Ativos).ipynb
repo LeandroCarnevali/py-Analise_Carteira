{
 "cells": [
  {
   "cell_type": "code",
   "execution_count": 1,
   "id": "be6e83d0",
   "metadata": {},
   "outputs": [],
   "source": [
    "%load_ext autoreload\n",
    "%autoreload 2\n",
    "\n",
    "import pandas as pd\n",
    "import matplotlib.pyplot as plt\n",
    "import pandas_datareader.data as web\n",
    "import numpy as np\n",
    "import yfinance as yf\n",
    "from scipy.stats import norm"
   ]
  },
  {
   "cell_type": "code",
   "execution_count": 2,
   "id": "5df345dc",
   "metadata": {},
   "outputs": [
    {
     "name": "stdout",
     "output_type": "stream",
     "text": [
      "[*********************100%***********************]  4 of 4 completed\n"
     ]
    }
   ],
   "source": [
    "yf.pdr_override()\n",
    "tickers = \"^BVSP ^GSPC GC=F USDBRL=X\"\n",
    "carteira = yf.download(tickers, interval='1mo', start=\"2008-01-01\")[\"Close\"]\n",
    "carteira.columns = [\"OURO\", \"DOLAR\", \"IBOV\", \"S&P500\"]\n",
    "carteira = carteira.dropna()\n",
    "carteira[\"OURO_BRL\"]=carteira[\"OURO\"]*carteira[\"DOLAR\"]\n",
    "carteira[\"S&P500_BRL\"]=carteira[\"S&P500\"]*carteira[\"DOLAR\"]"
   ]
  },
  {
   "cell_type": "code",
   "execution_count": 3,
   "id": "7e139aac",
   "metadata": {},
   "outputs": [],
   "source": [
    "retornos = carteira.pct_change()[1:]"
   ]
  },
  {
   "cell_type": "markdown",
   "id": "396cee2f",
   "metadata": {},
   "source": [
    "# Retornos Esperados e a Matriz de Covariância\n",
    "\n",
    "Gerar uma \"Fronteira Eficiente\" requer o conjunto de retornos e uma matriz de covariância. Por enquanto, vamos supor que podemos estimá-los simplesmente olhando para trás no tempo e presumindo ingenuamente que eles se manterão no futuro. Claramente, eles não vão, mas teremos muito tempo para nos aprofundarmos nisso. Por enquanto, suponha que nosso método ingênuo de estimar esses parâmetros seja suficiente.\n",
    "\n",
    "Podemos gerar uma estimativa de retornos esperados usando a função retorno_anual(), que retorna um vetor de retornos anualizado. Por exemplo, vamos gerar o conjunto de retornos e covariância, que são necessário para calcular a \"Fronteira Eficiente\", em um período histórico de 10 anos de 2010 a 2020. "
   ]
  },
  {
   "cell_type": "code",
   "execution_count": 4,
   "id": "0b5e4916",
   "metadata": {},
   "outputs": [],
   "source": [
    "def retorno_anual(r):\n",
    "    \"\"\"\n",
    "    Anualiza o retorno de um conjunto de ativos\n",
    "    \"\"\"\n",
    "    crescimento_composto = (1+r).prod()\n",
    "    n_periodos = r.shape[0]\n",
    "    return crescimento_composto**(12/n_periodos)-1"
   ]
  },
  {
   "cell_type": "code",
   "execution_count": 5,
   "id": "fb278b84",
   "metadata": {},
   "outputs": [],
   "source": [
    "retornos_anualizado = retorno_anual(retornos[\"2010\":\"2020\"])\n",
    "cov_retornos = retornos[\"2010\":\"2020\"].cov()"
   ]
  },
  {
   "cell_type": "markdown",
   "id": "2697cf65",
   "metadata": {},
   "source": [
    "Como primeiro exercício, vamos supor que temos alguns pesos, e vamos tentar calcular os retornos e a volatilidade de uma carteira, dado um conjunto de pesos, retornos e uma matriz de covariância.\n",
    "\n",
    "Os retornos são fáceis, então vamos adicionar isso ao nosso kit de ferramentas"
   ]
  },
  {
   "cell_type": "code",
   "execution_count": 6,
   "id": "e41af0bd",
   "metadata": {},
   "outputs": [],
   "source": [
    "def portfolio_ret(pesos, retornos):\n",
    "    \"\"\"\n",
    "    Calcula o retorno de uma carteira baseado nos seus retornos e pesos\n",
    "    os pesos são uma matriz numpy ou matriz Nx1 e os retornos são uma matriz numpy ou matriz Nx1\n",
    "    \"\"\"\n",
    "    return pesos.T @ retornos"
   ]
  },
  {
   "cell_type": "code",
   "execution_count": 7,
   "id": "0431b62e",
   "metadata": {},
   "outputs": [],
   "source": [
    "def portfolio_vol(pesos, covmat):\n",
    "    \"\"\"\n",
    "    Calcula a volatilidade de uma carteira a partir de uma matriz de covariância e pesos\n",
    "    os pesos são uma matriz numpy ou N x 1 maxtrix e covmat é uma matriz N x N\n",
    "    \"\"\"\n",
    "    return (pesos.T @ covmat @ pesos)**0.5"
   ]
  },
  {
   "cell_type": "code",
   "execution_count": 8,
   "id": "94cbed77",
   "metadata": {},
   "outputs": [
    {
     "data": {
      "text/html": [
       "<div>\n",
       "<style scoped>\n",
       "    .dataframe tbody tr th:only-of-type {\n",
       "        vertical-align: middle;\n",
       "    }\n",
       "\n",
       "    .dataframe tbody tr th {\n",
       "        vertical-align: top;\n",
       "    }\n",
       "\n",
       "    .dataframe thead th {\n",
       "        text-align: right;\n",
       "    }\n",
       "</style>\n",
       "<table border=\"1\" class=\"dataframe\">\n",
       "  <thead>\n",
       "    <tr style=\"text-align: right;\">\n",
       "      <th></th>\n",
       "      <th>IBOV</th>\n",
       "      <th>OURO_BRL</th>\n",
       "      <th>S&amp;P500_BRL</th>\n",
       "    </tr>\n",
       "    <tr>\n",
       "      <th>Date</th>\n",
       "      <th></th>\n",
       "      <th></th>\n",
       "      <th></th>\n",
       "    </tr>\n",
       "  </thead>\n",
       "  <tbody>\n",
       "    <tr>\n",
       "      <th>2008-02-01</th>\n",
       "      <td>0.067221</td>\n",
       "      <td>0.009052</td>\n",
       "      <td>-0.075519</td>\n",
       "    </tr>\n",
       "    <tr>\n",
       "      <th>2008-03-01</th>\n",
       "      <td>-0.039708</td>\n",
       "      <td>-0.023252</td>\n",
       "      <td>0.030166</td>\n",
       "    </tr>\n",
       "    <tr>\n",
       "      <th>2008-04-01</th>\n",
       "      <td>0.113174</td>\n",
       "      <td>-0.102298</td>\n",
       "      <td>-0.001413</td>\n",
       "    </tr>\n",
       "    <tr>\n",
       "      <th>2008-05-01</th>\n",
       "      <td>0.069620</td>\n",
       "      <td>0.006255</td>\n",
       "      <td>-0.011085</td>\n",
       "    </tr>\n",
       "    <tr>\n",
       "      <th>2008-07-01</th>\n",
       "      <td>-0.180293</td>\n",
       "      <td>-0.008554</td>\n",
       "      <td>-0.128832</td>\n",
       "    </tr>\n",
       "    <tr>\n",
       "      <th>...</th>\n",
       "      <td>...</td>\n",
       "      <td>...</td>\n",
       "      <td>...</td>\n",
       "    </tr>\n",
       "    <tr>\n",
       "      <th>2021-09-01</th>\n",
       "      <td>-0.088850</td>\n",
       "      <td>0.007793</td>\n",
       "      <td>0.019921</td>\n",
       "    </tr>\n",
       "    <tr>\n",
       "      <th>2021-10-01</th>\n",
       "      <td>-0.067382</td>\n",
       "      <td>0.056943</td>\n",
       "      <td>0.112468</td>\n",
       "    </tr>\n",
       "    <tr>\n",
       "      <th>2022-03-01</th>\n",
       "      <td>0.159399</td>\n",
       "      <td>-0.074445</td>\n",
       "      <td>-0.167145</td>\n",
       "    </tr>\n",
       "    <tr>\n",
       "      <th>2022-04-01</th>\n",
       "      <td>-0.101026</td>\n",
       "      <td>0.020726</td>\n",
       "      <td>-0.049599</td>\n",
       "    </tr>\n",
       "    <tr>\n",
       "      <th>2022-06-01</th>\n",
       "      <td>-0.046989</td>\n",
       "      <td>-0.021343</td>\n",
       "      <td>-0.055849</td>\n",
       "    </tr>\n",
       "  </tbody>\n",
       "</table>\n",
       "<p>136 rows × 3 columns</p>\n",
       "</div>"
      ],
      "text/plain": [
       "                IBOV  OURO_BRL  S&P500_BRL\n",
       "Date                                      \n",
       "2008-02-01  0.067221  0.009052   -0.075519\n",
       "2008-03-01 -0.039708 -0.023252    0.030166\n",
       "2008-04-01  0.113174 -0.102298   -0.001413\n",
       "2008-05-01  0.069620  0.006255   -0.011085\n",
       "2008-07-01 -0.180293 -0.008554   -0.128832\n",
       "...              ...       ...         ...\n",
       "2021-09-01 -0.088850  0.007793    0.019921\n",
       "2021-10-01 -0.067382  0.056943    0.112468\n",
       "2022-03-01  0.159399 -0.074445   -0.167145\n",
       "2022-04-01 -0.101026  0.020726   -0.049599\n",
       "2022-06-01 -0.046989 -0.021343   -0.055849\n",
       "\n",
       "[136 rows x 3 columns]"
      ]
     },
     "execution_count": 8,
     "metadata": {},
     "output_type": "execute_result"
    }
   ],
   "source": [
    "l = [\"IBOV\", \"OURO_BRL\", \"S&P500_BRL\"]\n",
    "retornos[l]"
   ]
  },
  {
   "cell_type": "code",
   "execution_count": 9,
   "id": "c93c15ed",
   "metadata": {},
   "outputs": [
    {
     "data": {
      "text/plain": [
       "0.1816254087979318"
      ]
     },
     "execution_count": 9,
     "metadata": {},
     "output_type": "execute_result"
    }
   ],
   "source": [
    "pesos = np.array([0.33, 0.33, 0.34])\n",
    "portfolio_ret(pesos, retornos_anualizado[l])"
   ]
  },
  {
   "cell_type": "code",
   "execution_count": 10,
   "id": "1b2cf97a",
   "metadata": {},
   "outputs": [
    {
     "data": {
      "text/html": [
       "<div>\n",
       "<style scoped>\n",
       "    .dataframe tbody tr th:only-of-type {\n",
       "        vertical-align: middle;\n",
       "    }\n",
       "\n",
       "    .dataframe tbody tr th {\n",
       "        vertical-align: top;\n",
       "    }\n",
       "\n",
       "    .dataframe thead th {\n",
       "        text-align: right;\n",
       "    }\n",
       "</style>\n",
       "<table border=\"1\" class=\"dataframe\">\n",
       "  <thead>\n",
       "    <tr style=\"text-align: right;\">\n",
       "      <th></th>\n",
       "      <th>IBOV</th>\n",
       "      <th>OURO_BRL</th>\n",
       "      <th>S&amp;P500_BRL</th>\n",
       "    </tr>\n",
       "  </thead>\n",
       "  <tbody>\n",
       "    <tr>\n",
       "      <th>IBOV</th>\n",
       "      <td>0.004730</td>\n",
       "      <td>-0.001968</td>\n",
       "      <td>-0.001021</td>\n",
       "    </tr>\n",
       "    <tr>\n",
       "      <th>OURO_BRL</th>\n",
       "      <td>-0.001968</td>\n",
       "      <td>0.005080</td>\n",
       "      <td>0.002020</td>\n",
       "    </tr>\n",
       "    <tr>\n",
       "      <th>S&amp;P500_BRL</th>\n",
       "      <td>-0.001021</td>\n",
       "      <td>0.002020</td>\n",
       "      <td>0.003039</td>\n",
       "    </tr>\n",
       "  </tbody>\n",
       "</table>\n",
       "</div>"
      ],
      "text/plain": [
       "                IBOV  OURO_BRL  S&P500_BRL\n",
       "IBOV        0.004730 -0.001968   -0.001021\n",
       "OURO_BRL   -0.001968  0.005080    0.002020\n",
       "S&P500_BRL -0.001021  0.002020    0.003039"
      ]
     },
     "execution_count": 10,
     "metadata": {},
     "output_type": "execute_result"
    }
   ],
   "source": [
    "cov_retornos.loc[l,l]"
   ]
  },
  {
   "cell_type": "code",
   "execution_count": 11,
   "id": "42efe906",
   "metadata": {},
   "outputs": [
    {
     "data": {
      "text/plain": [
       "0.03485977845528568"
      ]
     },
     "execution_count": 11,
     "metadata": {},
     "output_type": "execute_result"
    }
   ],
   "source": [
    "portfolio_vol(pesos, cov_retornos.loc[l,l])"
   ]
  },
  {
   "cell_type": "markdown",
   "id": "60ed3b50",
   "metadata": {},
   "source": [
    "# O Caso de 2 Ativos\n",
    "\n",
    "No caso de 2 ativos, o problema é um pouco simplificado, pois o peso do segundo ativo é o mesmo do primeiro ativo.\n",
    "\n",
    "Vamos escrever uma função que desenhe a fronteira eficiente para um caso simples de 2 ativos.\n",
    "\n",
    "Comece gerando uma sequência de pesos em uma lista de tuplas. O Python facilita a geração de uma lista usando algo chamado _list comprehension_ ... que você pode pensar como uma maneira mais eficiente de gerar uma lista de valores em vez de escrever um _loop for_."
   ]
  },
  {
   "cell_type": "code",
   "execution_count": 12,
   "id": "fa1ba4bc",
   "metadata": {},
   "outputs": [],
   "source": [
    "n_ptos = 20\n",
    "pesos = [np.array([w, 1-w]) for w in np.linspace(0, 1, n_ptos)]"
   ]
  },
  {
   "cell_type": "code",
   "execution_count": 13,
   "id": "b5e3b5e1",
   "metadata": {},
   "outputs": [
    {
     "data": {
      "text/html": [
       "<div>\n",
       "<style scoped>\n",
       "    .dataframe tbody tr th:only-of-type {\n",
       "        vertical-align: middle;\n",
       "    }\n",
       "\n",
       "    .dataframe tbody tr th {\n",
       "        vertical-align: top;\n",
       "    }\n",
       "\n",
       "    .dataframe thead th {\n",
       "        text-align: right;\n",
       "    }\n",
       "</style>\n",
       "<table border=\"1\" class=\"dataframe\">\n",
       "  <thead>\n",
       "    <tr style=\"text-align: right;\">\n",
       "      <th></th>\n",
       "      <th>IBOV</th>\n",
       "      <th>DOLAR</th>\n",
       "    </tr>\n",
       "    <tr>\n",
       "      <th>Date</th>\n",
       "      <th></th>\n",
       "      <th></th>\n",
       "    </tr>\n",
       "  </thead>\n",
       "  <tbody>\n",
       "    <tr>\n",
       "      <th>2008-02-01</th>\n",
       "      <td>0.067221</td>\n",
       "      <td>-0.042225</td>\n",
       "    </tr>\n",
       "    <tr>\n",
       "      <th>2008-03-01</th>\n",
       "      <td>-0.039708</td>\n",
       "      <td>0.036342</td>\n",
       "    </tr>\n",
       "  </tbody>\n",
       "</table>\n",
       "</div>"
      ],
      "text/plain": [
       "                IBOV     DOLAR\n",
       "Date                          \n",
       "2008-02-01  0.067221 -0.042225\n",
       "2008-03-01 -0.039708  0.036342"
      ]
     },
     "execution_count": 13,
     "metadata": {},
     "output_type": "execute_result"
    }
   ],
   "source": [
    "l = [\"IBOV\", \"DOLAR\"]\n",
    "retornos[l].head(2)"
   ]
  },
  {
   "cell_type": "code",
   "execution_count": 14,
   "id": "df95f09e",
   "metadata": {},
   "outputs": [
    {
     "data": {
      "text/plain": [
       "<AxesSubplot:xlabel='V', ylabel='R'>"
      ]
     },
     "execution_count": 14,
     "metadata": {},
     "output_type": "execute_result"
    },
    {
     "data": {
      "image/png": "[encoded data removed]",
      "text/plain": [
       "<Figure size 432x288 with 1 Axes>"
      ]
     },
     "metadata": {
      "needs_background": "light"
     },
     "output_type": "display_data"
    }
   ],
   "source": [
    "rets = [portfolio_ret(w, retornos_anualizado[l]) for w in pesos]\n",
    "vols = [portfolio_vol(w, cov_retornos.loc[l,l]) for w in pesos]\n",
    "front_ef = pd.DataFrame({\"R\": rets, \"V\": vols})\n",
    "front_ef.plot.scatter(x=\"V\", y=\"R\")"
   ]
  },
  {
   "cell_type": "code",
   "execution_count": 15,
   "id": "ed7af75a",
   "metadata": {},
   "outputs": [
    {
     "data": {
      "text/plain": [
       "array([0.57894737, 0.42105263])"
      ]
     },
     "execution_count": 15,
     "metadata": {},
     "output_type": "execute_result"
    }
   ],
   "source": [
    "pesos[11]"
   ]
  },
  {
   "cell_type": "markdown",
   "id": "80d91540",
   "metadata": {},
   "source": [
    "Podemos criar uma função que traça a fronteira:"
   ]
  },
  {
   "cell_type": "code",
   "execution_count": 16,
   "id": "dc8c3ea4",
   "metadata": {},
   "outputs": [],
   "source": [
    "def plot_front_ef(n_ptos, rets, cov):\n",
    "    \"\"\"\n",
    "    Plota a fronteira eficiente de 2 ativos\n",
    "    \"\"\"\n",
    "    if rets.shape[0] != 2 or rets.shape[0] != 2:\n",
    "        raise ValueError(\"plot_front_ef pode plotar somente a fronteira de 2 ativos\")\n",
    "    pesos = [np.array([w, 1-w]) for w in np.linspace(0, 1, n_ptos)]\n",
    "    rets_ = [portfolio_ret(w, rets) for w in pesos]\n",
    "    vols_ = [portfolio_vol(w, cov) for w in pesos]\n",
    "    ef = pd.DataFrame({\n",
    "        \"Retornos\": rets_, \n",
    "        \"Volatilidade\": vols_\n",
    "    })\n",
    "    return ef.plot.line(x=\"Volatilidade\", y=\"Retornos\", style=\".-\")"
   ]
  },
  {
   "cell_type": "markdown",
   "id": "b3e15295",
   "metadata": {},
   "source": [
    "Um resumo útil dos recursos de visualização em pandas pode ser visto [aqui](https://pandas.pydata.org/pandas-docs/stable/user_guide/visualization.html)"
   ]
  },
  {
   "cell_type": "code",
   "execution_count": 17,
   "id": "63aa7a37",
   "metadata": {},
   "outputs": [
    {
     "data": {
      "text/plain": [
       "<AxesSubplot:xlabel='Volatilidade'>"
      ]
     },
     "execution_count": 17,
     "metadata": {},
     "output_type": "execute_result"
    },
    {
     "data": {
      "image/png": "[encoded data removed]",
      "text/plain": [
       "<Figure size 432x288 with 1 Axes>"
      ]
     },
     "metadata": {
      "needs_background": "light"
     },
     "output_type": "display_data"
    }
   ],
   "source": [
    "l = [\"OURO\", \"S&P500\"]\n",
    "plot_front_ef(30, retornos_anualizado[l].values, cov_retornos.loc[l,l])"
   ]
  },
  {
   "cell_type": "code",
   "execution_count": null,
   "id": "8bfb03aa",
   "metadata": {},
   "outputs": [],
   "source": []
  }
 ],
 "metadata": {
  "kernelspec": {
   "display_name": "Python 3",
   "language": "python",
   "name": "python3"
  },
  "language_info": {
   "codemirror_mode": {
    "name": "ipython",
    "version": 3
   },
   "file_extension": ".py",
   "mimetype": "text/x-python",
   "name": "python",
   "nbconvert_exporter": "python",
   "pygments_lexer": "ipython3",
   "version": "3.8.8"
  }
 },
 "nbformat": 4,
 "nbformat_minor": 5
}
