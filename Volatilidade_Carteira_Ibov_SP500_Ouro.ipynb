{
 "cells": [
  {
   "cell_type": "code",
   "execution_count": 1,
   "id": "277555ea",
   "metadata": {},
   "outputs": [],
   "source": [
    "import numpy as np\n",
    "import pandas as pd\n",
    "import matplotlib.pyplot as plt\n",
    "import pandas_datareader.data as web\n",
    "import yfinance as yf\n",
    "import seaborn as sns"
   ]
  },
  {
   "cell_type": "code",
   "execution_count": 2,
   "id": "96d0b193",
   "metadata": {},
   "outputs": [],
   "source": [
    "\"\"\"Sobrescrevendo os métodos do pandas_datareader\"\"\"\n",
    "yf.pdr_override()"
   ]
  },
  {
   "cell_type": "code",
   "execution_count": 3,
   "id": "ea8615d5",
   "metadata": {},
   "outputs": [
    {
     "name": "stdout",
     "output_type": "stream",
     "text": [
      "[*********************100%***********************]  4 of 4 completed\n"
     ]
    }
   ],
   "source": [
    "tickers = \"^BVSP ^GSPC GC=F USDBRL=X\"\n",
    "carteira = yf.download(tickers, start=\"2010-01-01\")[\"Close\"]"
   ]
  },
  {
   "cell_type": "code",
   "execution_count": 7,
   "id": "33511a94",
   "metadata": {},
   "outputs": [],
   "source": [
    "carteira.columns = [\"OURO\", \"DOLAR\", \"IBOV\", \"S&P500\"]\n",
    "carteira = carteira.dropna()\n",
    "carteira[\"OURO_BRL\"]=carteira[\"OURO\"]*carteira[\"DOLAR\"]\n",
    "carteira[\"S&P500_BRL\"]=carteira[\"S&P500\"]*carteira[\"DOLAR\"]"
   ]
  },
  {
   "cell_type": "code",
   "execution_count": 8,
   "id": "8a968771",
   "metadata": {},
   "outputs": [],
   "source": [
    "#retornos = carteira.pct_change().dropna()\n",
    "retornos = carteira.pct_change()[1:]"
   ]
  },
  {
   "cell_type": "code",
   "execution_count": 9,
   "id": "d94c5397",
   "metadata": {},
   "outputs": [
    {
     "data": {
      "text/html": [
       "<div>\n",
       "<style scoped>\n",
       "    .dataframe tbody tr th:only-of-type {\n",
       "        vertical-align: middle;\n",
       "    }\n",
       "\n",
       "    .dataframe tbody tr th {\n",
       "        vertical-align: top;\n",
       "    }\n",
       "\n",
       "    .dataframe thead th {\n",
       "        text-align: right;\n",
       "    }\n",
       "</style>\n",
       "<table border=\"1\" class=\"dataframe\">\n",
       "  <thead>\n",
       "    <tr style=\"text-align: right;\">\n",
       "      <th></th>\n",
       "      <th>OURO</th>\n",
       "      <th>DOLAR</th>\n",
       "      <th>IBOV</th>\n",
       "      <th>S&amp;P500</th>\n",
       "      <th>OURO_BRL</th>\n",
       "      <th>S&amp;P500_BRL</th>\n",
       "    </tr>\n",
       "    <tr>\n",
       "      <th>Date</th>\n",
       "      <th></th>\n",
       "      <th></th>\n",
       "      <th></th>\n",
       "      <th></th>\n",
       "      <th></th>\n",
       "      <th></th>\n",
       "    </tr>\n",
       "  </thead>\n",
       "  <tbody>\n",
       "    <tr>\n",
       "      <th>2010-01-05</th>\n",
       "      <td>0.000358</td>\n",
       "      <td>0.010471</td>\n",
       "      <td>0.002784</td>\n",
       "      <td>0.003116</td>\n",
       "      <td>0.010833</td>\n",
       "      <td>0.013620</td>\n",
       "    </tr>\n",
       "    <tr>\n",
       "      <th>2010-01-06</th>\n",
       "      <td>0.015920</td>\n",
       "      <td>-0.003166</td>\n",
       "      <td>0.006962</td>\n",
       "      <td>0.000546</td>\n",
       "      <td>0.012703</td>\n",
       "      <td>-0.002623</td>\n",
       "    </tr>\n",
       "    <tr>\n",
       "      <th>2010-01-07</th>\n",
       "      <td>-0.002465</td>\n",
       "      <td>0.004274</td>\n",
       "      <td>-0.003930</td>\n",
       "      <td>0.004001</td>\n",
       "      <td>0.001798</td>\n",
       "      <td>0.008292</td>\n",
       "    </tr>\n",
       "    <tr>\n",
       "      <th>2010-01-08</th>\n",
       "      <td>0.004501</td>\n",
       "      <td>-0.003968</td>\n",
       "      <td>-0.002669</td>\n",
       "      <td>0.002882</td>\n",
       "      <td>0.000515</td>\n",
       "      <td>-0.001098</td>\n",
       "    </tr>\n",
       "    <tr>\n",
       "      <th>2010-01-11</th>\n",
       "      <td>0.010982</td>\n",
       "      <td>-0.000577</td>\n",
       "      <td>0.002419</td>\n",
       "      <td>0.001747</td>\n",
       "      <td>0.010399</td>\n",
       "      <td>0.001168</td>\n",
       "    </tr>\n",
       "    <tr>\n",
       "      <th>...</th>\n",
       "      <td>...</td>\n",
       "      <td>...</td>\n",
       "      <td>...</td>\n",
       "      <td>...</td>\n",
       "      <td>...</td>\n",
       "      <td>...</td>\n",
       "    </tr>\n",
       "    <tr>\n",
       "      <th>2022-05-05</th>\n",
       "      <td>0.003749</td>\n",
       "      <td>-0.007926</td>\n",
       "      <td>-0.028059</td>\n",
       "      <td>-0.035650</td>\n",
       "      <td>-0.004207</td>\n",
       "      <td>-0.043294</td>\n",
       "    </tr>\n",
       "    <tr>\n",
       "      <th>2022-05-06</th>\n",
       "      <td>0.003842</td>\n",
       "      <td>0.022201</td>\n",
       "      <td>-0.001605</td>\n",
       "      <td>-0.005674</td>\n",
       "      <td>0.026128</td>\n",
       "      <td>0.016400</td>\n",
       "    </tr>\n",
       "    <tr>\n",
       "      <th>2022-05-09</th>\n",
       "      <td>-0.012811</td>\n",
       "      <td>0.010422</td>\n",
       "      <td>-0.017929</td>\n",
       "      <td>-0.032037</td>\n",
       "      <td>-0.002523</td>\n",
       "      <td>-0.021949</td>\n",
       "    </tr>\n",
       "    <tr>\n",
       "      <th>2022-05-10</th>\n",
       "      <td>-0.009262</td>\n",
       "      <td>0.015845</td>\n",
       "      <td>-0.001356</td>\n",
       "      <td>0.002458</td>\n",
       "      <td>0.006437</td>\n",
       "      <td>0.018342</td>\n",
       "    </tr>\n",
       "    <tr>\n",
       "      <th>2022-05-11</th>\n",
       "      <td>0.007337</td>\n",
       "      <td>-0.005735</td>\n",
       "      <td>0.012481</td>\n",
       "      <td>-0.016463</td>\n",
       "      <td>0.001560</td>\n",
       "      <td>-0.022104</td>\n",
       "    </tr>\n",
       "  </tbody>\n",
       "</table>\n",
       "<p>2971 rows × 6 columns</p>\n",
       "</div>"
      ],
      "text/plain": [
       "                OURO     DOLAR      IBOV    S&P500  OURO_BRL  S&P500_BRL\n",
       "Date                                                                    \n",
       "2010-01-05  0.000358  0.010471  0.002784  0.003116  0.010833    0.013620\n",
       "2010-01-06  0.015920 -0.003166  0.006962  0.000546  0.012703   -0.002623\n",
       "2010-01-07 -0.002465  0.004274 -0.003930  0.004001  0.001798    0.008292\n",
       "2010-01-08  0.004501 -0.003968 -0.002669  0.002882  0.000515   -0.001098\n",
       "2010-01-11  0.010982 -0.000577  0.002419  0.001747  0.010399    0.001168\n",
       "...              ...       ...       ...       ...       ...         ...\n",
       "2022-05-05  0.003749 -0.007926 -0.028059 -0.035650 -0.004207   -0.043294\n",
       "2022-05-06  0.003842  0.022201 -0.001605 -0.005674  0.026128    0.016400\n",
       "2022-05-09 -0.012811  0.010422 -0.017929 -0.032037 -0.002523   -0.021949\n",
       "2022-05-10 -0.009262  0.015845 -0.001356  0.002458  0.006437    0.018342\n",
       "2022-05-11  0.007337 -0.005735  0.012481 -0.016463  0.001560   -0.022104\n",
       "\n",
       "[2971 rows x 6 columns]"
      ]
     },
     "execution_count": 9,
     "metadata": {},
     "output_type": "execute_result"
    }
   ],
   "source": [
    "retornos"
   ]
  },
  {
   "cell_type": "code",
   "execution_count": 24,
   "id": "c9037095",
   "metadata": {},
   "outputs": [
    {
     "data": {
      "text/plain": [
       "OURO          0.010459\n",
       "DOLAR         0.011370\n",
       "IBOV          0.015715\n",
       "S&P500        0.011144\n",
       "OURO_BRL      0.015154\n",
       "S&P500_BRL    0.015670\n",
       "dtype: float64"
      ]
     },
     "execution_count": 24,
     "metadata": {},
     "output_type": "execute_result"
    }
   ],
   "source": [
    "desvio = retornos - retornos.mean()\n",
    "desvio_quadrado = desvio**2\n",
    "media_desvio_quadrado = desvio_quadrado.mean()\n",
    "\n",
    "volatilidade = np.sqrt(media_desvio_quadrado)\n",
    "volatilidade"
   ]
  },
  {
   "cell_type": "code",
   "execution_count": 25,
   "id": "b423b51c",
   "metadata": {},
   "outputs": [
    {
     "data": {
      "text/plain": [
       "OURO          0.010461\n",
       "DOLAR         0.011372\n",
       "IBOV          0.015717\n",
       "S&P500        0.011146\n",
       "OURO_BRL      0.015157\n",
       "S&P500_BRL    0.015672\n",
       "dtype: float64"
      ]
     },
     "execution_count": 25,
     "metadata": {},
     "output_type": "execute_result"
    }
   ],
   "source": [
    "retornos.std()"
   ]
  },
  {
   "cell_type": "markdown",
   "id": "854112f9",
   "metadata": {},
   "source": [
    "Por que eles não combinam? Porque, por padrão, o método .std() calcula o desvio padrão da amostra, o que significa que ele usa o denominador de 𝑛−1 . Por outro lado, calculamos o desvio padrão da população, que usa um numerador de 𝑛 . Como os retornos observados são considerados amostras observadas de uma distribuição, provavelmente é mais preciso usar o denominador de 𝑛−1 , então vamos refazer nosso cálculo para ver se obtemos o mesmo número.\n",
    "\n",
    "Para obter o número de observações, podemos usar o atributo .shape de um DataFrame que retorna uma tupla do número de linhas e colunas."
   ]
  },
  {
   "cell_type": "code",
   "execution_count": 27,
   "id": "2bebbf9e",
   "metadata": {},
   "outputs": [
    {
     "data": {
      "text/plain": [
       "OURO          0.010461\n",
       "DOLAR         0.011372\n",
       "IBOV          0.015717\n",
       "S&P500        0.011146\n",
       "OURO_BRL      0.015157\n",
       "S&P500_BRL    0.015672\n",
       "dtype: float64"
      ]
     },
     "execution_count": 27,
     "metadata": {},
     "output_type": "execute_result"
    }
   ],
   "source": [
    "numero_obs = retornos.shape[0]\n",
    "media_desvio_quadrado = desvio_quadrado.sum()/(numero_obs-1)\n",
    "volatilidade = np.sqrt(media_desvio_quadrado)\n",
    "volatilidade"
   ]
  },
  {
   "cell_type": "markdown",
   "id": "b0a21493",
   "metadata": {},
   "source": [
    "# Volatilidade anualizada\n",
    "\n",
    "Anualizamos a volatilidade escalando (multiplicando-a) pela raiz quadrada do número de períodos por observação\n",
    "\n",
    "Portanto, para anualizar a volatilidade de uma série mensal, multiplicamos pela raiz quadrada de 12. Em vez de usar o `np.sqrt()`, podemos elevá-lo à potência de $0,5$\n",
    "\n",
    "Para anualizar uma série diária, devido a variação de dias úteis por ano, podemos definir como valor padrão 240 dias (20 dias úteis mês)."
   ]
  },
  {
   "cell_type": "code",
   "execution_count": 40,
   "id": "007cc571",
   "metadata": {},
   "outputs": [
    {
     "data": {
      "text/plain": [
       "OURO          0.162059\n",
       "DOLAR         0.176173\n",
       "IBOV          0.243493\n",
       "S&P500        0.172667\n",
       "OURO_BRL      0.234809\n",
       "S&P500_BRL    0.242794\n",
       "dtype: float64"
      ]
     },
     "execution_count": 40,
     "metadata": {},
     "output_type": "execute_result"
    }
   ],
   "source": [
    "anualizada_vol = retornos.std()*(240**0.5)\n",
    "anualizada_vol"
   ]
  },
  {
   "cell_type": "markdown",
   "id": "afe6fa22",
   "metadata": {},
   "source": [
    "Agora podemos calcular os retornos mensalizados da seguinte forma:"
   ]
  },
  {
   "cell_type": "code",
   "execution_count": 49,
   "id": "cd99fb8f",
   "metadata": {},
   "outputs": [
    {
     "data": {
      "text/plain": [
       "OURO          0.000170\n",
       "DOLAR         0.000368\n",
       "IBOV          0.000134\n",
       "S&P500        0.000419\n",
       "OURO_BRL      0.000538\n",
       "S&P500_BRL    0.000787\n",
       "dtype: float64"
      ]
     },
     "execution_count": 49,
     "metadata": {},
     "output_type": "execute_result"
    }
   ],
   "source": [
    "n_dias = retornos.shape[0]\n",
    "retorno_por_dia = (retornos+1).prod()**(1/n_dias) - 1\n",
    "retorno_por_dia"
   ]
  },
  {
   "cell_type": "code",
   "execution_count": 50,
   "id": "9cfa3678",
   "metadata": {},
   "outputs": [
    {
     "data": {
      "text/plain": [
       "OURO          0.003410\n",
       "DOLAR         0.007389\n",
       "IBOV          0.002690\n",
       "S&P500        0.008417\n",
       "OURO_BRL      0.010825\n",
       "S&P500_BRL    0.015868\n",
       "dtype: float64"
      ]
     },
     "execution_count": 50,
     "metadata": {},
     "output_type": "execute_result"
    }
   ],
   "source": [
    "retorno_mensal = (retorno_por_dia + 1)**20-1\n",
    "retorno_mensal"
   ]
  },
  {
   "cell_type": "code",
   "execution_count": 51,
   "id": "726b9504",
   "metadata": {},
   "outputs": [
    {
     "data": {
      "text/plain": [
       "OURO          0.041701\n",
       "DOLAR         0.092363\n",
       "IBOV          0.032762\n",
       "S&P500        0.105812\n",
       "OURO_BRL      0.137916\n",
       "S&P500_BRL    0.207948\n",
       "dtype: float64"
      ]
     },
     "execution_count": 51,
     "metadata": {},
     "output_type": "execute_result"
    }
   ],
   "source": [
    "retorno_anual = (retorno_mensal + 1)**12-1\n",
    "retorno_anual"
   ]
  },
  {
   "cell_type": "code",
   "execution_count": 52,
   "id": "95da8517",
   "metadata": {},
   "outputs": [
    {
     "data": {
      "text/plain": [
       "OURO          0.257320\n",
       "DOLAR         0.524274\n",
       "IBOV          0.134549\n",
       "S&P500        0.612809\n",
       "OURO_BRL      0.587353\n",
       "S&P500_BRL    0.856482\n",
       "dtype: float64"
      ]
     },
     "execution_count": 52,
     "metadata": {},
     "output_type": "execute_result"
    }
   ],
   "source": [
    "retorno_anual/anualizada_vol"
   ]
  },
  {
   "cell_type": "code",
   "execution_count": 57,
   "id": "4ffd4352",
   "metadata": {},
   "outputs": [
    {
     "data": {
      "text/plain": [
       "OURO         -0.483153\n",
       "DOLAR        -0.156874\n",
       "IBOV         -0.358278\n",
       "S&P500       -0.082169\n",
       "OURO_BRL      0.076299\n",
       "S&P500_BRL    0.362235\n",
       "dtype: float64"
      ]
     },
     "execution_count": 57,
     "metadata": {},
     "output_type": "execute_result"
    }
   ],
   "source": [
    "taxa_semrisco = 0.12\n",
    "retorno_excesso = retorno_anual - taxa_semrisco\n",
    "sharpe_ratio = retorno_excesso/anualizada_vol\n",
    "sharpe_ratio"
   ]
  },
  {
   "cell_type": "code",
   "execution_count": null,
   "id": "5c63beb9",
   "metadata": {},
   "outputs": [],
   "source": []
  }
 ],
 "metadata": {
  "kernelspec": {
   "display_name": "Python 3",
   "language": "python",
   "name": "python3"
  },
  "language_info": {
   "codemirror_mode": {
    "name": "ipython",
    "version": 3
   },
   "file_extension": ".py",
   "mimetype": "text/x-python",
   "name": "python",
   "nbconvert_exporter": "python",
   "pygments_lexer": "ipython3",
   "version": "3.8.8"
  }
 },
 "nbformat": 4,
 "nbformat_minor": 5
}
