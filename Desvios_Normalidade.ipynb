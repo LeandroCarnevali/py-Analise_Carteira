{
  "nbformat": 4,
  "nbformat_minor": 0,
  "metadata": {
    "colab": {
      "name": "Desvios_Normalidade.ipynb",
      "provenance": [],
      "collapsed_sections": [],
      "authorship_tag": "ABX9TyO3kEgJbA6J30w6fp/f7J8X",
      "include_colab_link": true
    },
    "kernelspec": {
      "name": "python3",
      "display_name": "Python 3"
    },
    "language_info": {
      "name": "python"
    }
  },
  "cells": [
    {
      "cell_type": "markdown",
      "metadata": {
        "id": "view-in-github",
        "colab_type": "text"
      },
      "source": [
        "<a href=\"https://colab.research.google.com/github/lelascarnevali/py-Analise_Carteira/blob/main/Desvios_Normalidade.ipynb\" target=\"_parent\"><img src=\"https://colab.research.google.com/assets/colab-badge.svg\" alt=\"Open In Colab\"/></a>"
      ]
    },
    {
      "cell_type": "code",
      "source": [
        "!pip install yfinance"
      ],
      "metadata": {
        "colab": {
          "base_uri": "https://localhost:8080/"
        },
        "id": "lA2lkz9hj-E5",
        "outputId": "807e7de1-d8ce-41f7-a0a2-06302774c32a"
      },
      "execution_count": 1,
      "outputs": [
        {
          "output_type": "stream",
          "name": "stdout",
          "text": [
            "Looking in indexes: https://pypi.org/simple, https://us-python.pkg.dev/colab-wheels/public/simple/\n",
            "Collecting yfinance\n",
            "  Downloading yfinance-0.1.70-py2.py3-none-any.whl (26 kB)\n",
            "Collecting lxml>=4.5.1\n",
            "  Downloading lxml-4.8.0-cp37-cp37m-manylinux_2_17_x86_64.manylinux2014_x86_64.manylinux_2_24_x86_64.whl (6.4 MB)\n",
            "\u001b[K     |████████████████████████████████| 6.4 MB 19.1 MB/s \n",
            "\u001b[?25hRequirement already satisfied: numpy>=1.15 in /usr/local/lib/python3.7/dist-packages (from yfinance) (1.21.6)\n",
            "Requirement already satisfied: multitasking>=0.0.7 in /usr/local/lib/python3.7/dist-packages (from yfinance) (0.0.10)\n",
            "Requirement already satisfied: pandas>=0.24.0 in /usr/local/lib/python3.7/dist-packages (from yfinance) (1.3.5)\n",
            "Collecting requests>=2.26\n",
            "  Downloading requests-2.27.1-py2.py3-none-any.whl (63 kB)\n",
            "\u001b[K     |████████████████████████████████| 63 kB 1.9 MB/s \n",
            "\u001b[?25hRequirement already satisfied: python-dateutil>=2.7.3 in /usr/local/lib/python3.7/dist-packages (from pandas>=0.24.0->yfinance) (2.8.2)\n",
            "Requirement already satisfied: pytz>=2017.3 in /usr/local/lib/python3.7/dist-packages (from pandas>=0.24.0->yfinance) (2022.1)\n",
            "Requirement already satisfied: six>=1.5 in /usr/local/lib/python3.7/dist-packages (from python-dateutil>=2.7.3->pandas>=0.24.0->yfinance) (1.15.0)\n",
            "Requirement already satisfied: urllib3<1.27,>=1.21.1 in /usr/local/lib/python3.7/dist-packages (from requests>=2.26->yfinance) (1.24.3)\n",
            "Requirement already satisfied: idna<4,>=2.5 in /usr/local/lib/python3.7/dist-packages (from requests>=2.26->yfinance) (2.10)\n",
            "Requirement already satisfied: charset-normalizer~=2.0.0 in /usr/local/lib/python3.7/dist-packages (from requests>=2.26->yfinance) (2.0.12)\n",
            "Requirement already satisfied: certifi>=2017.4.17 in /usr/local/lib/python3.7/dist-packages (from requests>=2.26->yfinance) (2022.5.18.1)\n",
            "Installing collected packages: requests, lxml, yfinance\n",
            "  Attempting uninstall: requests\n",
            "    Found existing installation: requests 2.23.0\n",
            "    Uninstalling requests-2.23.0:\n",
            "      Successfully uninstalled requests-2.23.0\n",
            "  Attempting uninstall: lxml\n",
            "    Found existing installation: lxml 4.2.6\n",
            "    Uninstalling lxml-4.2.6:\n",
            "      Successfully uninstalled lxml-4.2.6\n",
            "\u001b[31mERROR: pip's dependency resolver does not currently take into account all the packages that are installed. This behaviour is the source of the following dependency conflicts.\n",
            "google-colab 1.0.0 requires requests~=2.23.0, but you have requests 2.27.1 which is incompatible.\n",
            "datascience 0.10.6 requires folium==0.2.1, but you have folium 0.8.3 which is incompatible.\u001b[0m\n",
            "Successfully installed lxml-4.8.0 requests-2.27.1 yfinance-0.1.70\n"
          ]
        }
      ]
    },
    {
      "cell_type": "code",
      "execution_count": 2,
      "metadata": {
        "id": "h__nIFqJjZyr"
      },
      "outputs": [],
      "source": [
        "%load_ext autoreload\n",
        "%autoreload 2\n",
        "\n",
        "import pandas as pd\n",
        "import matplotlib.pyplot as plt\n",
        "import pandas_datareader.data as web\n",
        "import yfinance as yf"
      ]
    },
    {
      "cell_type": "code",
      "source": [
        "def Drawdown(serie_retorno: pd.Series):\n",
        "  retornos_acc = (1+serie_retorno).cumprod()-1\n",
        "  picos_retornos = retornos_acc.cummax()\n",
        "  drawdown = ((1+retornos_acc)-(1+picos_retornos))/(1+picos_retornos)\n",
        "  return pd.DataFrame({\"Retornos_Acc\": retornos_acc, \n",
        "                         \"Picos_Retornos\": picos_retornos, \n",
        "                         \"Drawdown\": drawdown})"
      ],
      "metadata": {
        "id": "VytMUqJPkIG_"
      },
      "execution_count": 3,
      "outputs": []
    },
    {
      "cell_type": "code",
      "source": [
        "yf.pdr_override()\n",
        "tickers = \"^BVSP ^GSPC GC=F USDBRL=X\"\n",
        "carteira = yf.download(tickers, interval='1mo', start=\"2008-01-01\")[\"Close\"]\n",
        "carteira.columns = [\"OURO\", \"DOLAR\", \"IBOV\", \"S&P500\"]\n",
        "carteira = carteira.dropna()\n",
        "carteira[\"OURO_BRL\"]=carteira[\"OURO\"]*carteira[\"DOLAR\"]\n",
        "carteira[\"S&P500_BRL\"]=carteira[\"S&P500\"]*carteira[\"DOLAR\"]"
      ],
      "metadata": {
        "colab": {
          "base_uri": "https://localhost:8080/"
        },
        "id": "U0fxEmAdkT1v",
        "outputId": "f3b18e78-1a23-40b3-de4e-65f9bff05b5f"
      },
      "execution_count": 4,
      "outputs": [
        {
          "output_type": "stream",
          "name": "stdout",
          "text": [
            "[*********************100%***********************]  4 of 4 completed\n"
          ]
        }
      ]
    },
    {
      "cell_type": "markdown",
      "source": [
        "#Assimetria\n",
        "\n",
        "Intuitivamente, uma inclinação negativa significa que você obtém mais retornos negativos do que esperaria se os retornos fossem distribuídos como a distribuição normal.\n",
        "\n",
        "Outra maneira de pensar sobre isso é se esses retornos fossem normalmente distribuídos, a média e a mediana seriam muito próximas.\n",
        "\n",
        "No entanto, se eles são assimétricos negativamente, o valor esperado, ou seja, a média é menor que a mediana. Se eles são positivamente assimétricos, o valor esperado (novamente, a média) é maior que a mediana."
      ],
      "metadata": {
        "id": "HsEO9RlHkl9q"
      }
    },
    {
      "cell_type": "code",
      "source": [
        "pd.concat([carteira.mean(), carteira.median(), carteira.mean()>carteira.median()], axis=1)"
      ],
      "metadata": {
        "colab": {
          "base_uri": "https://localhost:8080/",
          "height": 238
        },
        "id": "SHwlIeGqkbEH",
        "outputId": "6fd77427-c477-4dff-bfeb-d363f0f40885"
      },
      "execution_count": 5,
      "outputs": [
        {
          "output_type": "execute_result",
          "data": {
            "text/plain": [
              "                       0             1     2\n",
              "OURO         1343.658399   1293.000000  True\n",
              "DOLAR           2.914915      2.408800  True\n",
              "IBOV        68018.490078  61546.000000  True\n",
              "S&P500       2049.527960   1932.229980  True\n",
              "OURO_BRL     4071.102832   3425.133536  True\n",
              "S&P500_BRL   6962.025666   4819.290793  True"
            ],
            "text/html": [
              "\n",
              "  <div id=\"df-a5e765d5-1f1b-4bdb-a13b-cd95652d0596\">\n",
              "    <div class=\"colab-df-container\">\n",
              "      <div>\n",
              "<style scoped>\n",
              "    .dataframe tbody tr th:only-of-type {\n",
              "        vertical-align: middle;\n",
              "    }\n",
              "\n",
              "    .dataframe tbody tr th {\n",
              "        vertical-align: top;\n",
              "    }\n",
              "\n",
              "    .dataframe thead th {\n",
              "        text-align: right;\n",
              "    }\n",
              "</style>\n",
              "<table border=\"1\" class=\"dataframe\">\n",
              "  <thead>\n",
              "    <tr style=\"text-align: right;\">\n",
              "      <th></th>\n",
              "      <th>0</th>\n",
              "      <th>1</th>\n",
              "      <th>2</th>\n",
              "    </tr>\n",
              "  </thead>\n",
              "  <tbody>\n",
              "    <tr>\n",
              "      <th>OURO</th>\n",
              "      <td>1343.658399</td>\n",
              "      <td>1293.000000</td>\n",
              "      <td>True</td>\n",
              "    </tr>\n",
              "    <tr>\n",
              "      <th>DOLAR</th>\n",
              "      <td>2.914915</td>\n",
              "      <td>2.408800</td>\n",
              "      <td>True</td>\n",
              "    </tr>\n",
              "    <tr>\n",
              "      <th>IBOV</th>\n",
              "      <td>68018.490078</td>\n",
              "      <td>61546.000000</td>\n",
              "      <td>True</td>\n",
              "    </tr>\n",
              "    <tr>\n",
              "      <th>S&amp;P500</th>\n",
              "      <td>2049.527960</td>\n",
              "      <td>1932.229980</td>\n",
              "      <td>True</td>\n",
              "    </tr>\n",
              "    <tr>\n",
              "      <th>OURO_BRL</th>\n",
              "      <td>4071.102832</td>\n",
              "      <td>3425.133536</td>\n",
              "      <td>True</td>\n",
              "    </tr>\n",
              "    <tr>\n",
              "      <th>S&amp;P500_BRL</th>\n",
              "      <td>6962.025666</td>\n",
              "      <td>4819.290793</td>\n",
              "      <td>True</td>\n",
              "    </tr>\n",
              "  </tbody>\n",
              "</table>\n",
              "</div>\n",
              "      <button class=\"colab-df-convert\" onclick=\"convertToInteractive('df-a5e765d5-1f1b-4bdb-a13b-cd95652d0596')\"\n",
              "              title=\"Convert this dataframe to an interactive table.\"\n",
              "              style=\"display:none;\">\n",
              "        \n",
              "  <svg xmlns=\"http://www.w3.org/2000/svg\" height=\"24px\"viewBox=\"0 0 24 24\"\n",
              "       width=\"24px\">\n",
              "    <path d=\"M0 0h24v24H0V0z\" fill=\"none\"/>\n",
              "    <path d=\"M18.56 5.44l.94 2.06.94-2.06 2.06-.94-2.06-.94-.94-2.06-.94 2.06-2.06.94zm-11 1L8.5 8.5l.94-2.06 2.06-.94-2.06-.94L8.5 2.5l-.94 2.06-2.06.94zm10 10l.94 2.06.94-2.06 2.06-.94-2.06-.94-.94-2.06-.94 2.06-2.06.94z\"/><path d=\"M17.41 7.96l-1.37-1.37c-.4-.4-.92-.59-1.43-.59-.52 0-1.04.2-1.43.59L10.3 9.45l-7.72 7.72c-.78.78-.78 2.05 0 2.83L4 21.41c.39.39.9.59 1.41.59.51 0 1.02-.2 1.41-.59l7.78-7.78 2.81-2.81c.8-.78.8-2.07 0-2.86zM5.41 20L4 18.59l7.72-7.72 1.47 1.35L5.41 20z\"/>\n",
              "  </svg>\n",
              "      </button>\n",
              "      \n",
              "  <style>\n",
              "    .colab-df-container {\n",
              "      display:flex;\n",
              "      flex-wrap:wrap;\n",
              "      gap: 12px;\n",
              "    }\n",
              "\n",
              "    .colab-df-convert {\n",
              "      background-color: #E8F0FE;\n",
              "      border: none;\n",
              "      border-radius: 50%;\n",
              "      cursor: pointer;\n",
              "      display: none;\n",
              "      fill: #1967D2;\n",
              "      height: 32px;\n",
              "      padding: 0 0 0 0;\n",
              "      width: 32px;\n",
              "    }\n",
              "\n",
              "    .colab-df-convert:hover {\n",
              "      background-color: #E2EBFA;\n",
              "      box-shadow: 0px 1px 2px rgba(60, 64, 67, 0.3), 0px 1px 3px 1px rgba(60, 64, 67, 0.15);\n",
              "      fill: #174EA6;\n",
              "    }\n",
              "\n",
              "    [theme=dark] .colab-df-convert {\n",
              "      background-color: #3B4455;\n",
              "      fill: #D2E3FC;\n",
              "    }\n",
              "\n",
              "    [theme=dark] .colab-df-convert:hover {\n",
              "      background-color: #434B5C;\n",
              "      box-shadow: 0px 1px 3px 1px rgba(0, 0, 0, 0.15);\n",
              "      filter: drop-shadow(0px 1px 2px rgba(0, 0, 0, 0.3));\n",
              "      fill: #FFFFFF;\n",
              "    }\n",
              "  </style>\n",
              "\n",
              "      <script>\n",
              "        const buttonEl =\n",
              "          document.querySelector('#df-a5e765d5-1f1b-4bdb-a13b-cd95652d0596 button.colab-df-convert');\n",
              "        buttonEl.style.display =\n",
              "          google.colab.kernel.accessAllowed ? 'block' : 'none';\n",
              "\n",
              "        async function convertToInteractive(key) {\n",
              "          const element = document.querySelector('#df-a5e765d5-1f1b-4bdb-a13b-cd95652d0596');\n",
              "          const dataTable =\n",
              "            await google.colab.kernel.invokeFunction('convertToInteractive',\n",
              "                                                     [key], {});\n",
              "          if (!dataTable) return;\n",
              "\n",
              "          const docLinkHtml = 'Like what you see? Visit the ' +\n",
              "            '<a target=\"_blank\" href=https://colab.research.google.com/notebooks/data_table.ipynb>data table notebook</a>'\n",
              "            + ' to learn more about interactive tables.';\n",
              "          element.innerHTML = '';\n",
              "          dataTable['output_type'] = 'display_data';\n",
              "          await google.colab.output.renderOutput(dataTable, element);\n",
              "          const docLink = document.createElement('div');\n",
              "          docLink.innerHTML = docLinkHtml;\n",
              "          element.appendChild(docLink);\n",
              "        }\n",
              "      </script>\n",
              "    </div>\n",
              "  </div>\n",
              "  "
            ]
          },
          "metadata": {},
          "execution_count": 5
        }
      ]
    },
    {
      "cell_type": "markdown",
      "source": [
        "\n",
        "Agora, vamos desenvolver o código para calcular a assimetria de uma série de números.\n",
        "\n",
        "Lembre-se que a assimetria é dada por:\n",
        "\n",
        "$$ S(R) = \\frac{E[ (R-E(R))^3 ]}{\\sigma_R^3} $$"
      ],
      "metadata": {
        "id": "lV6zvC8blmwN"
      }
    },
    {
      "cell_type": "code",
      "source": [
        "def assimetria(r):\n",
        "\n",
        "    # Para definir o desvio padrão da população, parametrizar dof=0\n",
        "    sigma_r = r.std(ddof=0)\n",
        "    exp = ((r - r.mean())**3).mean()\n",
        "    return exp/sigma_r**3"
      ],
      "metadata": {
        "id": "OARD3-a-ldYt"
      },
      "execution_count": 6,
      "outputs": []
    },
    {
      "cell_type": "code",
      "source": [
        "assimetria(carteira).sort_values()"
      ],
      "metadata": {
        "colab": {
          "base_uri": "https://localhost:8080/"
        },
        "id": "kBF8QuaenB36",
        "outputId": "1d13b578-53da-4763-feb0-e0a49f1abf61"
      },
      "execution_count": 7,
      "outputs": [
        {
          "output_type": "execute_result",
          "data": {
            "text/plain": [
              "OURO          0.311207\n",
              "DOLAR         0.797547\n",
              "S&P500        0.951291\n",
              "IBOV          1.074283\n",
              "S&P500_BRL    1.421848\n",
              "OURO_BRL      1.490639\n",
              "dtype: float64"
            ]
          },
          "metadata": {},
          "execution_count": 7
        }
      ]
    },
    {
      "cell_type": "code",
      "source": [
        "import scipy.stats\n",
        "scipy.stats.skew(carteira)"
      ],
      "metadata": {
        "colab": {
          "base_uri": "https://localhost:8080/"
        },
        "id": "ewbAFjylnGII",
        "outputId": "421d7f72-967e-4aec-96b7-a4aab1110077"
      },
      "execution_count": 8,
      "outputs": [
        {
          "output_type": "execute_result",
          "data": {
            "text/plain": [
              "array([0.31120651, 0.79754661, 1.07428275, 0.95129078, 1.49063868,\n",
              "       1.42184839])"
            ]
          },
          "metadata": {},
          "execution_count": 8
        }
      ]
    },
    {
      "cell_type": "markdown",
      "source": [
        "#Curtose\n",
        "\n",
        "Intuitivamente, a curtose mede a \"gordura\" dos extremos da distribuição. A distribuição normal tem uma curtose de 3 e, portanto, se a curtose de seus retornos for menor que 3, ela tende a ter caudas mais finas, e se a curtose for maior que 3, a distribuição terá caudas mais gordas.\n",
        "\n",
        "A curtose é dada por:\n",
        "\n",
        "$$ K(R) = \\frac{E[ (R-E(R))^4 ]}{\\sigma_R^4} $$\n",
        "\n",
        "\n",
        "Isso é muito semelhante à assimetria, então podemos apenas copiá-la e editá-la para calcular a 4ª em vez da 3ª potência (como foi o caso da assimetria)."
      ],
      "metadata": {
        "id": "elJ0nTDUp1hX"
      }
    },
    {
      "cell_type": "code",
      "source": [
        "def curtose(r):\n",
        "\n",
        "    # Para definir o desvio padrão da população, parametrizar dof=0\n",
        "    sigma_r = r.std(ddof=0)\n",
        "    exp = ((r - r.mean())**4).mean()\n",
        "    return exp/sigma_r**4"
      ],
      "metadata": {
        "id": "W_Y7uotBp1rH"
      },
      "execution_count": 10,
      "outputs": []
    },
    {
      "cell_type": "code",
      "source": [
        "curtose(carteira).sort_values()"
      ],
      "metadata": {
        "colab": {
          "base_uri": "https://localhost:8080/"
        },
        "id": "sd1_MO5Iq0rI",
        "outputId": "4206f32d-6094-46f6-8dce-6007dd9f9036"
      },
      "execution_count": 12,
      "outputs": [
        {
          "output_type": "execute_result",
          "data": {
            "text/plain": [
              "OURO          2.478601\n",
              "DOLAR         2.588569\n",
              "S&P500        3.355015\n",
              "IBOV          3.400416\n",
              "S&P500_BRL    4.255608\n",
              "OURO_BRL      4.376108\n",
              "dtype: float64"
            ]
          },
          "metadata": {},
          "execution_count": 12
        }
      ]
    },
    {
      "cell_type": "code",
      "source": [
        "scipy.stats.kurtosis(carteira)"
      ],
      "metadata": {
        "colab": {
          "base_uri": "https://localhost:8080/"
        },
        "id": "p2xDFQUfrA4Q",
        "outputId": "38b9c1e2-25f3-4f6a-d503-449bde2295a4"
      },
      "execution_count": 13,
      "outputs": [
        {
          "output_type": "execute_result",
          "data": {
            "text/plain": [
              "array([-0.521399  , -0.41143069,  0.40041578,  0.35501518,  1.37610751,\n",
              "        1.255608  ])"
            ]
          },
          "metadata": {},
          "execution_count": 13
        }
      ]
    },
    {
      "cell_type": "markdown",
      "source": [
        "Observe que esses números são todos menores em 3 em relação ao número que calculamos. Isso porque, como dissemos acima, a curtose esperada de uma série de números normalmente distribuídos é 3, e scipy.stats está retornando o Excesso de Curtose.\n"
      ],
      "metadata": {
        "id": "yRb2Bbnwr9VQ"
      }
    },
    {
      "cell_type": "code",
      "source": [
        "scipy.stats.kurtosis(carteira)+3"
      ],
      "metadata": {
        "colab": {
          "base_uri": "https://localhost:8080/"
        },
        "id": "MV95r4ONsCiH",
        "outputId": "dcea92e0-2209-4d7d-fc28-b955476aa7eb"
      },
      "execution_count": 14,
      "outputs": [
        {
          "output_type": "execute_result",
          "data": {
            "text/plain": [
              "array([2.478601  , 2.58856931, 3.40041578, 3.35501518, 4.37610751,\n",
              "       4.255608  ])"
            ]
          },
          "metadata": {},
          "execution_count": 14
        }
      ]
    }
  ]
}